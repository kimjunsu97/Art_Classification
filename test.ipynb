{
 "cells": [
  {
   "cell_type": "markdown",
   "id": "755db786",
   "metadata": {},
   "source": [
    "0. 경로 설정"
   ]
  },
  {
   "cell_type": "code",
   "execution_count": 34,
   "id": "e7bdca08",
   "metadata": {},
   "outputs": [],
   "source": [
    "import os\n",
    "\n",
    "os.getcwd()\n",
    "base_dir = 'D:/Dacon_Art_Classification/Art_Classification'\n",
    "data_dir = \"D:/Dacon_Art_Classification/data\""
   ]
  },
  {
   "cell_type": "markdown",
   "id": "b4377adf",
   "metadata": {},
   "source": [
    "1. Dataset 만들기"
   ]
  },
  {
   "cell_type": "code",
   "execution_count": 35,
   "id": "ac8f9790",
   "metadata": {
    "scrolled": true
   },
   "outputs": [
    {
     "name": "stdout",
     "output_type": "stream",
     "text": [
      "{'Diego Velazquez': 0, 'Vincent van Gogh': 1, 'Claude Monet': 2, 'Edgar Degas': 3, 'Hieronymus Bosch': 4, 'Pierre-Auguste Renoir': 5, 'Rene Magritte': 6, 'Michelangelo': 7, 'Peter Paul Rubens': 8, 'Caravaggio': 9, 'Alfred Sisley': 10, 'Edouard Manet': 11, 'Rembrandt': 12, 'Francisco Goya': 13, 'Pablo Picasso': 14, 'Titian': 15, 'Mikhail Vrubel': 16, 'Leonardo da Vinci': 17, 'Kazimir Malevich': 18, 'Andy Warhol': 19, 'Vasiliy Kandinskiy': 20, 'Gustav Klimt': 21, 'Amedeo Modigliani': 22, 'Henri Rousseau': 23, 'Salvador Dali': 24, 'Pieter Bruegel': 25, 'Albrecht Du rer': 26, 'Paul Gauguin': 27, 'Sandro Botticelli': 28, 'Piet Mondrian': 29, 'Eugene Delacroix': 30, 'Paul Klee': 31, 'William Turner': 32, 'Marc Chagall': 33, 'Jan van Eyck': 34, 'Henri Matisse': 35, 'El Greco': 36, 'Gustave Courbet': 37, 'Andrei Rublev': 38, 'Jackson Pollock': 39, 'Edvard Munch': 40, 'Camille Pissarro': 41, 'Raphael': 42, 'Henri de Toulouse-Lautrec': 43, 'Joan Miro': 44, 'Giotto di Bondone': 45, 'Diego Rivera': 46, 'Frida Kahlo': 47, 'Georges Seurat': 48, 'Paul Cezanne': 49}\n"
     ]
    }
   ],
   "source": [
    "import torch\n",
    "from torch.utils.data import DataLoader, Dataset,random_split\n",
    "from torchvision import transforms\n",
    "import torch.nn.functional as F\n",
    "import pandas as pd\n",
    "import numpy as np\n",
    "import cv2\n",
    "\n",
    "class CustomDataset(Dataset):\n",
    "    \n",
    "    def __init__(self, state,img_dir, label:pd.DataFrame=None, transform=None):\n",
    "        self.state = state\n",
    "        self.label = label\n",
    "        self.img_dir = img_dir\n",
    "        self.transform = transform\n",
    "    def __len__(self):\n",
    "        return len(self.label)\n",
    "    def __getitem__(self, idx):\n",
    "        # linux일때 '/' 바꿔서 돌리기\n",
    "        if self.state =='train':\n",
    "            img_path = os.path.join(self.img_dir,\"train\",self.label['img_path'][idx].split('/')[-1])\n",
    "            img_label = self.label['artist'][idx]\n",
    "            img = cv2.imread(img_path)\n",
    "            if self.transform:\n",
    "                img = self.transform(img)\n",
    "                \n",
    "            img_label = F.one_hot(torch.Tensor([img_label]).to(torch.int64),num_classes = 50)\n",
    "            return img,img_label\n",
    "        else:\n",
    "            img_path = os.path.join(self.img_dir,\"test\",self.label['img_path'][idx].split('/')[-1])\n",
    "            img = cv2.imread(img_path)\n",
    "            if self.transform:\n",
    "                img = self.transform(img)\n",
    "            return img\n",
    "train_label = pd.read_csv(f'{data_dir}/train.csv')\n",
    "test_label = pd.read_csv(f'{data_dir}/test.csv')\n",
    "\n",
    "label_dict = dict(zip(train_label['artist'].unique(),range(50)))\n",
    "label_dict_decode = dict(zip(range(50),train_label['artist'].unique()))\n",
    "print(label_dict)\n",
    "\n",
    "train_label['artist'] = [label_dict[i] for i in train_label['artist']]\n",
    "\n",
    "train_transform = transforms.Compose([\n",
    "    transforms.ToPILImage(),\n",
    "    transforms.Resize((224, 224)), \n",
    "    #transforms.RandomCrop(224),            \n",
    "    transforms.RandomHorizontalFlip(),\n",
    "    transforms.RandomVerticalFlip(),\n",
    "    transforms.ToTensor(),\n",
    "    transforms.Normalize(mean=(0.485, 0.456, 0.406), std=(0.229, 0.224, 0.225)),\n",
    "\n",
    "])\n",
    "\n",
    "test_transform = transforms.Compose([\n",
    "    transforms.ToPILImage(),\n",
    "    transforms.Resize((224, 224)), \n",
    "    transforms.ToTensor(),\n",
    "])\n"
   ]
  },
  {
   "cell_type": "code",
   "execution_count": 36,
   "id": "3ae94093",
   "metadata": {},
   "outputs": [
    {
     "name": "stdout",
     "output_type": "stream",
     "text": [
      "tensor([[0, 0, 0, 0, 0, 1, 0, 0, 0, 0, 0, 0, 0, 0, 0, 0, 0, 0, 0, 0, 0, 0, 0, 0,\n",
      "         0, 0, 0, 0, 0, 0, 0, 0, 0, 0, 0, 0, 0, 0, 0, 0, 0, 0, 0, 0, 0, 0, 0, 0,\n",
      "         0, 0]])\n"
     ]
    }
   ],
   "source": [
    "img_label = F.one_hot(torch.Tensor([5]).to(torch.int64),num_classes = 50)\n",
    "print(img_label)"
   ]
  },
  {
   "cell_type": "code",
   "execution_count": 37,
   "id": "9afbfde1",
   "metadata": {},
   "outputs": [],
   "source": [
    "Custom_data = CustomDataset('train',data_dir,train_label,train_transform)\n",
    "train_set_size = int(len(Custom_data) * 0.8)\n",
    "valid_set_size = int(len(Custom_data)-train_set_size )\n",
    "\n",
    "train_set, valid_set = random_split(Custom_data, [train_set_size, valid_set_size])\n",
    "\n",
    "train_dataloader = DataLoader(train_set, batch_size=32, shuffle=True)\n",
    "valid_dataloader = DataLoader(valid_set, batch_size=32, shuffle=False)\n",
    "\n",
    "test_data = CustomDataset('test',data_dir,test_label,test_transform)\n",
    "test_dataloader = DataLoader(test_data, batch_size=32, shuffle=True)"
   ]
  },
  {
   "cell_type": "markdown",
   "id": "44137b35",
   "metadata": {},
   "source": [
    "2. 모델 만들기"
   ]
  },
  {
   "cell_type": "code",
   "execution_count": 38,
   "id": "d89ea432",
   "metadata": {},
   "outputs": [],
   "source": [
    "from torch import nn\n",
    "from torchvision.models import resnet50, ResNet50_Weights\n",
    "\n",
    "class ResNet(nn.Module):\n",
    "    def __init__(self):\n",
    "        super().__init__()\n",
    "        self.backbone = resnet50(weights=ResNet50_Weights.IMAGENET1K_V2)\n",
    "        self.classifier = nn.Linear(1000, 50)\n",
    "\n",
    "    def forward(self,x):\n",
    "        x = self.backbone(x)\n",
    "        x = self.classifier(x)\n",
    "        x = torch.nn.functional.softmax(x,dim=0)\n",
    "        return x\n"
   ]
  },
  {
   "cell_type": "code",
   "execution_count": 39,
   "id": "01d71385",
   "metadata": {},
   "outputs": [],
   "source": [
    "#from torchvision.models import resnet50, ResNet50_Weights\n",
    "#import torch.nn as nn\n",
    "#model_pretrained = resnet50(weights=ResNet50_Weights.IMAGENET1K_V2)\n",
    "\n",
    "#num_ftrs = model_pretrained.fc.in_features\n",
    "\n",
    "#model_pretrained.fc = nn.Sequential(\n",
    "#    nn.Linear(num_ftrs,200,bias=True),\n",
    "#    nn.ReLU(inplace=True),\n",
    "#    nn.Linear(200, 50),\n",
    "#    nn.ReLU(inplace=True))\n",
    "#print(model_pretrained)\n",
    "#이거 쓰는 법도 공부해보기"
   ]
  },
  {
   "cell_type": "code",
   "execution_count": 40,
   "id": "b8f2e23a",
   "metadata": {},
   "outputs": [
    {
     "name": "stdout",
     "output_type": "stream",
     "text": [
      "torch.Size([3, 50])\n",
      "----------------------------------------------------------------\n",
      "        Layer (type)               Output Shape         Param #\n",
      "================================================================\n",
      "            Conv2d-1         [-1, 64, 112, 112]           9,408\n",
      "       BatchNorm2d-2         [-1, 64, 112, 112]             128\n",
      "              ReLU-3         [-1, 64, 112, 112]               0\n",
      "         MaxPool2d-4           [-1, 64, 56, 56]               0\n",
      "            Conv2d-5           [-1, 64, 56, 56]           4,096\n",
      "       BatchNorm2d-6           [-1, 64, 56, 56]             128\n",
      "              ReLU-7           [-1, 64, 56, 56]               0\n",
      "            Conv2d-8           [-1, 64, 56, 56]          36,864\n",
      "       BatchNorm2d-9           [-1, 64, 56, 56]             128\n",
      "             ReLU-10           [-1, 64, 56, 56]               0\n",
      "           Conv2d-11          [-1, 256, 56, 56]          16,384\n",
      "      BatchNorm2d-12          [-1, 256, 56, 56]             512\n",
      "           Conv2d-13          [-1, 256, 56, 56]          16,384\n",
      "      BatchNorm2d-14          [-1, 256, 56, 56]             512\n",
      "             ReLU-15          [-1, 256, 56, 56]               0\n",
      "       Bottleneck-16          [-1, 256, 56, 56]               0\n",
      "           Conv2d-17           [-1, 64, 56, 56]          16,384\n",
      "      BatchNorm2d-18           [-1, 64, 56, 56]             128\n",
      "             ReLU-19           [-1, 64, 56, 56]               0\n",
      "           Conv2d-20           [-1, 64, 56, 56]          36,864\n",
      "      BatchNorm2d-21           [-1, 64, 56, 56]             128\n",
      "             ReLU-22           [-1, 64, 56, 56]               0\n",
      "           Conv2d-23          [-1, 256, 56, 56]          16,384\n",
      "      BatchNorm2d-24          [-1, 256, 56, 56]             512\n",
      "             ReLU-25          [-1, 256, 56, 56]               0\n",
      "       Bottleneck-26          [-1, 256, 56, 56]               0\n",
      "           Conv2d-27           [-1, 64, 56, 56]          16,384\n",
      "      BatchNorm2d-28           [-1, 64, 56, 56]             128\n",
      "             ReLU-29           [-1, 64, 56, 56]               0\n",
      "           Conv2d-30           [-1, 64, 56, 56]          36,864\n",
      "      BatchNorm2d-31           [-1, 64, 56, 56]             128\n",
      "             ReLU-32           [-1, 64, 56, 56]               0\n",
      "           Conv2d-33          [-1, 256, 56, 56]          16,384\n",
      "      BatchNorm2d-34          [-1, 256, 56, 56]             512\n",
      "             ReLU-35          [-1, 256, 56, 56]               0\n",
      "       Bottleneck-36          [-1, 256, 56, 56]               0\n",
      "           Conv2d-37          [-1, 128, 56, 56]          32,768\n",
      "      BatchNorm2d-38          [-1, 128, 56, 56]             256\n",
      "             ReLU-39          [-1, 128, 56, 56]               0\n",
      "           Conv2d-40          [-1, 128, 28, 28]         147,456\n",
      "      BatchNorm2d-41          [-1, 128, 28, 28]             256\n",
      "             ReLU-42          [-1, 128, 28, 28]               0\n",
      "           Conv2d-43          [-1, 512, 28, 28]          65,536\n",
      "      BatchNorm2d-44          [-1, 512, 28, 28]           1,024\n",
      "           Conv2d-45          [-1, 512, 28, 28]         131,072\n",
      "      BatchNorm2d-46          [-1, 512, 28, 28]           1,024\n",
      "             ReLU-47          [-1, 512, 28, 28]               0\n",
      "       Bottleneck-48          [-1, 512, 28, 28]               0\n",
      "           Conv2d-49          [-1, 128, 28, 28]          65,536\n",
      "      BatchNorm2d-50          [-1, 128, 28, 28]             256\n",
      "             ReLU-51          [-1, 128, 28, 28]               0\n",
      "           Conv2d-52          [-1, 128, 28, 28]         147,456\n",
      "      BatchNorm2d-53          [-1, 128, 28, 28]             256\n",
      "             ReLU-54          [-1, 128, 28, 28]               0\n",
      "           Conv2d-55          [-1, 512, 28, 28]          65,536\n",
      "      BatchNorm2d-56          [-1, 512, 28, 28]           1,024\n",
      "             ReLU-57          [-1, 512, 28, 28]               0\n",
      "       Bottleneck-58          [-1, 512, 28, 28]               0\n",
      "           Conv2d-59          [-1, 128, 28, 28]          65,536\n",
      "      BatchNorm2d-60          [-1, 128, 28, 28]             256\n",
      "             ReLU-61          [-1, 128, 28, 28]               0\n",
      "           Conv2d-62          [-1, 128, 28, 28]         147,456\n",
      "      BatchNorm2d-63          [-1, 128, 28, 28]             256\n",
      "             ReLU-64          [-1, 128, 28, 28]               0\n",
      "           Conv2d-65          [-1, 512, 28, 28]          65,536\n",
      "      BatchNorm2d-66          [-1, 512, 28, 28]           1,024\n",
      "             ReLU-67          [-1, 512, 28, 28]               0\n",
      "       Bottleneck-68          [-1, 512, 28, 28]               0\n",
      "           Conv2d-69          [-1, 128, 28, 28]          65,536\n",
      "      BatchNorm2d-70          [-1, 128, 28, 28]             256\n",
      "             ReLU-71          [-1, 128, 28, 28]               0\n",
      "           Conv2d-72          [-1, 128, 28, 28]         147,456\n",
      "      BatchNorm2d-73          [-1, 128, 28, 28]             256\n",
      "             ReLU-74          [-1, 128, 28, 28]               0\n",
      "           Conv2d-75          [-1, 512, 28, 28]          65,536\n",
      "      BatchNorm2d-76          [-1, 512, 28, 28]           1,024\n",
      "             ReLU-77          [-1, 512, 28, 28]               0\n",
      "       Bottleneck-78          [-1, 512, 28, 28]               0\n",
      "           Conv2d-79          [-1, 256, 28, 28]         131,072\n",
      "      BatchNorm2d-80          [-1, 256, 28, 28]             512\n",
      "             ReLU-81          [-1, 256, 28, 28]               0\n",
      "           Conv2d-82          [-1, 256, 14, 14]         589,824\n",
      "      BatchNorm2d-83          [-1, 256, 14, 14]             512\n",
      "             ReLU-84          [-1, 256, 14, 14]               0\n",
      "           Conv2d-85         [-1, 1024, 14, 14]         262,144\n",
      "      BatchNorm2d-86         [-1, 1024, 14, 14]           2,048\n",
      "           Conv2d-87         [-1, 1024, 14, 14]         524,288\n",
      "      BatchNorm2d-88         [-1, 1024, 14, 14]           2,048\n",
      "             ReLU-89         [-1, 1024, 14, 14]               0\n",
      "       Bottleneck-90         [-1, 1024, 14, 14]               0\n",
      "           Conv2d-91          [-1, 256, 14, 14]         262,144\n",
      "      BatchNorm2d-92          [-1, 256, 14, 14]             512\n",
      "             ReLU-93          [-1, 256, 14, 14]               0\n",
      "           Conv2d-94          [-1, 256, 14, 14]         589,824\n",
      "      BatchNorm2d-95          [-1, 256, 14, 14]             512\n",
      "             ReLU-96          [-1, 256, 14, 14]               0\n",
      "           Conv2d-97         [-1, 1024, 14, 14]         262,144\n",
      "      BatchNorm2d-98         [-1, 1024, 14, 14]           2,048\n",
      "             ReLU-99         [-1, 1024, 14, 14]               0\n",
      "      Bottleneck-100         [-1, 1024, 14, 14]               0\n",
      "          Conv2d-101          [-1, 256, 14, 14]         262,144\n",
      "     BatchNorm2d-102          [-1, 256, 14, 14]             512\n",
      "            ReLU-103          [-1, 256, 14, 14]               0\n",
      "          Conv2d-104          [-1, 256, 14, 14]         589,824\n",
      "     BatchNorm2d-105          [-1, 256, 14, 14]             512\n",
      "            ReLU-106          [-1, 256, 14, 14]               0\n",
      "          Conv2d-107         [-1, 1024, 14, 14]         262,144\n",
      "     BatchNorm2d-108         [-1, 1024, 14, 14]           2,048\n",
      "            ReLU-109         [-1, 1024, 14, 14]               0\n",
      "      Bottleneck-110         [-1, 1024, 14, 14]               0\n",
      "          Conv2d-111          [-1, 256, 14, 14]         262,144\n",
      "     BatchNorm2d-112          [-1, 256, 14, 14]             512\n",
      "            ReLU-113          [-1, 256, 14, 14]               0\n",
      "          Conv2d-114          [-1, 256, 14, 14]         589,824\n",
      "     BatchNorm2d-115          [-1, 256, 14, 14]             512\n",
      "            ReLU-116          [-1, 256, 14, 14]               0\n",
      "          Conv2d-117         [-1, 1024, 14, 14]         262,144\n",
      "     BatchNorm2d-118         [-1, 1024, 14, 14]           2,048\n",
      "            ReLU-119         [-1, 1024, 14, 14]               0\n",
      "      Bottleneck-120         [-1, 1024, 14, 14]               0\n",
      "          Conv2d-121          [-1, 256, 14, 14]         262,144\n",
      "     BatchNorm2d-122          [-1, 256, 14, 14]             512\n",
      "            ReLU-123          [-1, 256, 14, 14]               0\n",
      "          Conv2d-124          [-1, 256, 14, 14]         589,824\n",
      "     BatchNorm2d-125          [-1, 256, 14, 14]             512\n",
      "            ReLU-126          [-1, 256, 14, 14]               0\n",
      "          Conv2d-127         [-1, 1024, 14, 14]         262,144\n",
      "     BatchNorm2d-128         [-1, 1024, 14, 14]           2,048\n",
      "            ReLU-129         [-1, 1024, 14, 14]               0\n",
      "      Bottleneck-130         [-1, 1024, 14, 14]               0\n",
      "          Conv2d-131          [-1, 256, 14, 14]         262,144\n",
      "     BatchNorm2d-132          [-1, 256, 14, 14]             512\n",
      "            ReLU-133          [-1, 256, 14, 14]               0\n",
      "          Conv2d-134          [-1, 256, 14, 14]         589,824\n",
      "     BatchNorm2d-135          [-1, 256, 14, 14]             512\n",
      "            ReLU-136          [-1, 256, 14, 14]               0\n",
      "          Conv2d-137         [-1, 1024, 14, 14]         262,144\n",
      "     BatchNorm2d-138         [-1, 1024, 14, 14]           2,048\n",
      "            ReLU-139         [-1, 1024, 14, 14]               0\n",
      "      Bottleneck-140         [-1, 1024, 14, 14]               0\n",
      "          Conv2d-141          [-1, 512, 14, 14]         524,288\n",
      "     BatchNorm2d-142          [-1, 512, 14, 14]           1,024\n",
      "            ReLU-143          [-1, 512, 14, 14]               0\n",
      "          Conv2d-144            [-1, 512, 7, 7]       2,359,296\n",
      "     BatchNorm2d-145            [-1, 512, 7, 7]           1,024\n",
      "            ReLU-146            [-1, 512, 7, 7]               0\n",
      "          Conv2d-147           [-1, 2048, 7, 7]       1,048,576\n",
      "     BatchNorm2d-148           [-1, 2048, 7, 7]           4,096\n",
      "          Conv2d-149           [-1, 2048, 7, 7]       2,097,152\n",
      "     BatchNorm2d-150           [-1, 2048, 7, 7]           4,096\n",
      "            ReLU-151           [-1, 2048, 7, 7]               0\n",
      "      Bottleneck-152           [-1, 2048, 7, 7]               0\n",
      "          Conv2d-153            [-1, 512, 7, 7]       1,048,576\n",
      "     BatchNorm2d-154            [-1, 512, 7, 7]           1,024\n",
      "            ReLU-155            [-1, 512, 7, 7]               0\n",
      "          Conv2d-156            [-1, 512, 7, 7]       2,359,296\n",
      "     BatchNorm2d-157            [-1, 512, 7, 7]           1,024\n",
      "            ReLU-158            [-1, 512, 7, 7]               0\n",
      "          Conv2d-159           [-1, 2048, 7, 7]       1,048,576\n",
      "     BatchNorm2d-160           [-1, 2048, 7, 7]           4,096\n",
      "            ReLU-161           [-1, 2048, 7, 7]               0\n",
      "      Bottleneck-162           [-1, 2048, 7, 7]               0\n",
      "          Conv2d-163            [-1, 512, 7, 7]       1,048,576\n",
      "     BatchNorm2d-164            [-1, 512, 7, 7]           1,024\n",
      "            ReLU-165            [-1, 512, 7, 7]               0\n",
      "          Conv2d-166            [-1, 512, 7, 7]       2,359,296\n",
      "     BatchNorm2d-167            [-1, 512, 7, 7]           1,024\n",
      "            ReLU-168            [-1, 512, 7, 7]               0\n",
      "          Conv2d-169           [-1, 2048, 7, 7]       1,048,576\n",
      "     BatchNorm2d-170           [-1, 2048, 7, 7]           4,096\n",
      "            ReLU-171           [-1, 2048, 7, 7]               0\n",
      "      Bottleneck-172           [-1, 2048, 7, 7]               0\n",
      "AdaptiveAvgPool2d-173           [-1, 2048, 1, 1]               0\n",
      "          Linear-174                 [-1, 1000]       2,049,000\n",
      "          ResNet-175                 [-1, 1000]               0\n",
      "          Linear-176                   [-1, 50]          50,050\n",
      "================================================================\n",
      "Total params: 25,607,082\n",
      "Trainable params: 25,607,082\n",
      "Non-trainable params: 0\n",
      "----------------------------------------------------------------\n",
      "Input size (MB): 0.57\n",
      "Forward/backward pass size (MB): 286.57\n",
      "Params size (MB): 97.68\n",
      "Estimated Total Size (MB): 384.82\n",
      "----------------------------------------------------------------\n"
     ]
    }
   ],
   "source": [
    "device = torch.device('cuda' if torch.cuda.is_available() else 'cpu')\n",
    "resnet = ResNet()\n",
    "resnet.to(device)\n",
    "x = torch.randn(3, 3, 224, 224).to(device)\n",
    "pretrained_output = resnet(x)\n",
    "print(pretrained_output.size())\n",
    "\n",
    "from torchsummary import summary\n",
    "resnet.eval()\n",
    "summary(resnet, (3, 224, 224), device=device.type)"
   ]
  },
  {
   "cell_type": "code",
   "execution_count": 68,
   "id": "c00cf976",
   "metadata": {
    "scrolled": true
   },
   "outputs": [
    {
     "name": "stdout",
     "output_type": "stream",
     "text": [
      "start train\n",
      "epoch is : 0\n"
     ]
    },
    {
     "name": "stderr",
     "output_type": "stream",
     "text": [
      "  0%|                                                                                          | 0/148 [00:00<?, ?it/s]C:\\Users\\kimju\\AppData\\Local\\Temp\\ipykernel_30428\\1227751227.py:21: UserWarning: To copy construct from a tensor, it is recommended to use sourceTensor.clone().detach() or sourceTensor.clone().detach().requires_grad_(True), rather than torch.tensor(sourceTensor).\n",
      "  labels = torch.tensor(labels).to(device)\n",
      "100%|████████████████████████████████████████████████████████████████████████████████| 148/148 [01:47<00:00,  1.38it/s]\n"
     ]
    },
    {
     "name": "stdout",
     "output_type": "stream",
     "text": [
      "loss is : 0.045055732131004333\n",
      "epoch is : 1\n"
     ]
    },
    {
     "name": "stderr",
     "output_type": "stream",
     "text": [
      "100%|████████████████████████████████████████████████████████████████████████████████| 148/148 [01:56<00:00,  1.27it/s]\n"
     ]
    },
    {
     "name": "stdout",
     "output_type": "stream",
     "text": [
      "loss is : 0.03542036935687065\n",
      "epoch is : 2\n"
     ]
    },
    {
     "name": "stderr",
     "output_type": "stream",
     "text": [
      "100%|████████████████████████████████████████████████████████████████████████████████| 148/148 [01:58<00:00,  1.25it/s]\n"
     ]
    },
    {
     "name": "stdout",
     "output_type": "stream",
     "text": [
      "loss is : 0.0385158397257328\n",
      "epoch is : 3\n"
     ]
    },
    {
     "name": "stderr",
     "output_type": "stream",
     "text": [
      "100%|████████████████████████████████████████████████████████████████████████████████| 148/148 [01:58<00:00,  1.25it/s]\n"
     ]
    },
    {
     "name": "stdout",
     "output_type": "stream",
     "text": [
      "loss is : 0.03541179746389389\n",
      "epoch is : 4\n"
     ]
    },
    {
     "name": "stderr",
     "output_type": "stream",
     "text": [
      "100%|████████████████████████████████████████████████████████████████████████████████| 148/148 [01:58<00:00,  1.25it/s]\n"
     ]
    },
    {
     "name": "stdout",
     "output_type": "stream",
     "text": [
      "loss is : 0.03295277804136276\n",
      "epoch is : 5\n"
     ]
    },
    {
     "name": "stderr",
     "output_type": "stream",
     "text": [
      "100%|████████████████████████████████████████████████████████████████████████████████| 148/148 [01:57<00:00,  1.26it/s]\n"
     ]
    },
    {
     "name": "stdout",
     "output_type": "stream",
     "text": [
      "loss is : 0.04381118714809418\n",
      "epoch is : 6\n"
     ]
    },
    {
     "name": "stderr",
     "output_type": "stream",
     "text": [
      "100%|████████████████████████████████████████████████████████████████████████████████| 148/148 [01:57<00:00,  1.26it/s]\n"
     ]
    },
    {
     "name": "stdout",
     "output_type": "stream",
     "text": [
      "loss is : 0.03609923645853996\n",
      "epoch is : 7\n"
     ]
    },
    {
     "name": "stderr",
     "output_type": "stream",
     "text": [
      "100%|████████████████████████████████████████████████████████████████████████████████| 148/148 [01:58<00:00,  1.25it/s]\n"
     ]
    },
    {
     "name": "stdout",
     "output_type": "stream",
     "text": [
      "loss is : 0.039328135550022125\n",
      "epoch is : 8\n"
     ]
    },
    {
     "name": "stderr",
     "output_type": "stream",
     "text": [
      "100%|████████████████████████████████████████████████████████████████████████████████| 148/148 [01:59<00:00,  1.24it/s]\n"
     ]
    },
    {
     "name": "stdout",
     "output_type": "stream",
     "text": [
      "loss is : 0.03504406660795212\n",
      "epoch is : 9\n"
     ]
    },
    {
     "name": "stderr",
     "output_type": "stream",
     "text": [
      "100%|████████████████████████████████████████████████████████████████████████████████| 148/148 [01:59<00:00,  1.23it/s]"
     ]
    },
    {
     "name": "stdout",
     "output_type": "stream",
     "text": [
      "loss is : 0.04566306620836258\n"
     ]
    },
    {
     "name": "stderr",
     "output_type": "stream",
     "text": [
      "\n"
     ]
    }
   ],
   "source": [
    "import torch.optim as optim\n",
    "from tqdm import tqdm\n",
    "print(\"start train\")\n",
    "#criterion = nn.MultiLabelSoftMarginLoss()\n",
    "#criterion = nn.CrossEntropyLoss()\n",
    "#criterion = nn.BCEWithLogitsLoss()\n",
    "criterion = nn.BCELoss()\n",
    "#optimizer = optim.SGD(pretrained_model.parameters(), lr=0.001, momentum=0.9)\n",
    "optimizer = optim.Adam(resnet.parameters(), lr=0.00001)\n",
    "\n",
    "num_epochs = 10\n",
    "resnet.train()\n",
    "# train_dataloader에 문제 발생한듯\n",
    "loss_sum = []\n",
    "for epoch in range(num_epochs):\n",
    "    print(\"epoch is :\",epoch)\n",
    "    for i, (images,labels) in enumerate(tqdm(train_dataloader)):\n",
    "        optimizer.zero_grad() # 1. optimizer 초기화\n",
    "\n",
    "        images = images.to(device)\n",
    "        labels = torch.tensor(labels).to(device)\n",
    "        outputs = resnet(images)\n",
    "        loss = criterion(outputs,labels.reshape(-1,50).float())\n",
    "        loss_sum.append(loss)\n",
    "        loss.backward()\n",
    "        optimizer.step() \n",
    "    print(f'loss is : {loss}')"
   ]
  },
  {
   "cell_type": "code",
   "execution_count": 81,
   "id": "1d29d334",
   "metadata": {
    "scrolled": false
   },
   "outputs": [
    {
     "data": {
      "text/plain": [
       "[<matplotlib.lines.Line2D at 0x20e74b25a30>]"
      ]
     },
     "execution_count": 81,
     "metadata": {},
     "output_type": "execute_result"
    },
    {
     "data": {
      "image/png": "[encoded data removed]",
      "text/plain": [
       "<Figure size 640x480 with 1 Axes>"
      ]
     },
     "metadata": {},
     "output_type": "display_data"
    }
   ],
   "source": [
    "loss_plot = [i.item() for i in loss_sum]\n",
    "import matplotlib.pyplot as plt\n",
    "plt.plot(loss_plot)"
   ]
  },
  {
   "cell_type": "code",
   "execution_count": 44,
   "id": "3b896b1f",
   "metadata": {},
   "outputs": [],
   "source": [
    "torch.save(resnet,\"pretrained_model.pt\")"
   ]
  },
  {
   "cell_type": "code",
   "execution_count": 70,
   "id": "0a4ff66d",
   "metadata": {},
   "outputs": [
    {
     "name": "stderr",
     "output_type": "stream",
     "text": [
      "100%|██████████████████████████████████████████████████████████████████████████████████| 37/37 [00:26<00:00,  1.39it/s]\n"
     ]
    }
   ],
   "source": [
    "import torch\n",
    "from tqdm import tqdm\n",
    "from torchvision import transforms\n",
    "test_data = CustomDataset('test',data_dir,test_label,test_transform)\n",
    "test_dataloader = DataLoader(test_data, batch_size=16, shuffle=True)\n",
    "test_transform = transforms.Compose([\n",
    "    transforms.ToPILImage(),\n",
    "    transforms.Resize((300, 300)), \n",
    "    transforms.ToTensor(),\n",
    "])\n",
    "#valid_model = torch.load('model.pt')\n",
    "valid_model = resnet\n",
    "valid_model.eval()\n",
    "out_list = []\n",
    "label_list= []\n",
    "with torch.no_grad():\n",
    "    for i,(image,label) in enumerate(tqdm(valid_dataloader)):\n",
    "        image = image.to(device)\n",
    "        out = valid_model(image)\n",
    "        out_list.append(out)\n",
    "        label_list.append(label)"
   ]
  },
  {
   "cell_type": "code",
   "execution_count": 71,
   "id": "884bad03",
   "metadata": {},
   "outputs": [
    {
     "name": "stdout",
     "output_type": "stream",
     "text": [
      "1183\n"
     ]
    }
   ],
   "source": [
    "#print(len(label_list[0]))\n",
    "k = [np.argmax(i,axis=2).flatten() for i in label_list]\n",
    "final_label = []\n",
    "for i in k:\n",
    "    final_label+=i\n",
    "final_label = [i.item() for i in final_label]\n",
    "print(len(final_label))"
   ]
  },
  {
   "cell_type": "code",
   "execution_count": 72,
   "id": "a550ae9c",
   "metadata": {
    "scrolled": true
   },
   "outputs": [],
   "source": [
    "#final_label = []\n",
    "#for i in label_list:\n",
    "#    for j in i:\n",
    "#        final_label.append(j.item())\n",
    "#print(len(final_label))"
   ]
  },
  {
   "cell_type": "code",
   "execution_count": 73,
   "id": "68cf9d5d",
   "metadata": {
    "scrolled": true
   },
   "outputs": [
    {
     "name": "stdout",
     "output_type": "stream",
     "text": [
      "[18, 35, 14, 14, 46, 29, 5, 3, 28, 15, 17, 25, 1, 27, 14, 6, 40, 27, 15, 4, 16, 22, 31, 23, 31, 5, 34, 3, 34, 5, 2, 33, 2, 31, 18, 3, 0, 13, 21, 27, 13, 15, 35, 11, 1, 16, 3, 3, 33, 47, 40, 1, 1, 1, 38, 10, 34, 5, 22, 46, 6, 17, 10, 1, 42, 49, 46, 35, 33, 14, 24, 30, 0, 8, 33, 2, 6, 3, 0, 1, 14, 21, 45, 25, 3, 28, 20, 5, 33, 16, 3, 48, 27, 31, 17, 12, 13, 12, 14, 3, 22, 13, 20, 31, 35, 33, 41, 3, 27, 43, 10, 3, 18, 47, 32, 6, 24, 28, 45, 12, 13, 36, 4, 16, 23, 6, 1, 13, 3, 38, 1, 29, 3, 13, 42, 15, 19, 5, 1, 33, 16, 6, 14, 14, 6, 33, 10, 11, 0, 15, 32, 1, 1, 3, 20, 19, 18, 22, 2, 17, 13, 15, 14, 5, 10, 31, 40, 3, 33, 20, 1, 47, 22, 12, 13, 19, 27, 25, 42, 19, 25, 15, 12, 1, 16, 41, 24, 12, 20, 43, 44, 5, 47, 1, 42, 14, 44, 26, 24, 38, 12, 48, 27, 44, 35, 13, 10, 6, 40, 14, 10, 19, 22, 4, 5, 3, 42, 26, 25, 26, 10, 11, 33, 15, 21, 26, 26, 5, 19, 27, 8, 3, 38, 22, 4, 10, 1, 10, 3, 1, 35, 12, 24, 4, 14, 6, 4, 2, 22, 39, 12, 23, 47, 0, 25, 29, 32, 16, 12, 19, 3, 1, 19, 45, 41, 39, 36, 5, 3, 4, 4, 10, 10, 1, 8, 0, 28, 19, 24, 1, 27, 22, 17, 18, 31, 1, 14, 9, 6, 4, 8, 14, 1, 22, 27, 26, 33, 27, 35, 5, 2, 14, 26, 31, 43, 48, 3, 16, 23, 12, 45, 13, 11, 19, 42, 21, 0, 5, 15, 46, 3, 17, 15, 1, 5, 19, 18, 47, 3, 4, 43, 37, 38, 10, 3, 19, 3, 31, 13, 19, 35, 5, 22, 33, 5, 28, 14, 24, 1, 13, 25, 12, 2, 16, 8, 26, 26, 17, 42, 33, 38, 6, 26, 1, 27, 3, 32, 26, 10, 12, 3, 1, 17, 5, 26, 3, 26, 32, 12, 24, 14, 4, 32, 41, 26, 22, 45, 11, 20, 27, 25, 26, 1, 36, 36, 16, 19, 40, 12, 11, 23, 6, 3, 31, 15, 13, 43, 5, 14, 3, 15, 1, 5, 33, 35, 46, 5, 26, 18, 15, 1, 6, 42, 5, 15, 15, 33, 28, 17, 35, 23, 3, 0, 16, 9, 26, 33, 10, 19, 8, 1, 36, 12, 47, 3, 14, 4, 43, 26, 32, 16, 15, 14, 12, 20, 33, 1, 49, 6, 38, 28, 48, 29, 42, 28, 22, 35, 3, 5, 5, 17, 1, 16, 27, 26, 41, 26, 1, 1, 38, 20, 31, 3, 1, 33, 15, 22, 48, 32, 43, 25, 27, 16, 5, 12, 27, 36, 33, 6, 13, 19, 38, 5, 4, 35, 46, 18, 14, 38, 26, 44, 1, 3, 9, 3, 3, 5, 5, 1, 33, 12, 13, 27, 45, 47, 14, 8, 37, 28, 0, 4, 35, 49, 1, 8, 10, 31, 49, 17, 41, 12, 44, 17, 26, 21, 43, 35, 33, 27, 3, 26, 5, 25, 41, 10, 6, 21, 16, 1, 36, 8, 10, 12, 41, 46, 47, 14, 49, 24, 26, 26, 13, 13, 11, 1, 1, 22, 45, 5, 3, 28, 14, 15, 26, 26, 19, 13, 27, 3, 1, 11, 25, 21, 41, 15, 38, 12, 3, 37, 3, 31, 1, 16, 10, 1, 1, 10, 1, 31, 24, 13, 28, 1, 8, 12, 45, 3, 14, 4, 4, 33, 1, 25, 27, 40, 30, 49, 3, 1, 1, 35, 16, 43, 44, 11, 26, 12, 10, 32, 1, 10, 34, 45, 6, 14, 12, 2, 26, 16, 1, 21, 27, 43, 24, 27, 45, 10, 5, 3, 32, 18, 1, 42, 28, 12, 36, 17, 20, 11, 1, 1, 1, 14, 43, 38, 6, 27, 36, 1, 22, 3, 23, 48, 40, 28, 20, 26, 34, 13, 22, 19, 26, 4, 0, 3, 45, 16, 29, 1, 1, 10, 5, 1, 31, 16, 37, 12, 45, 13, 24, 17, 34, 1, 26, 2, 6, 33, 20, 4, 3, 28, 10, 36, 25, 21, 21, 3, 5, 35, 1, 17, 1, 5, 41, 14, 1, 20, 22, 26, 1, 43, 19, 26, 24, 38, 14, 17, 17, 12, 10, 1, 12, 8, 16, 25, 11, 46, 31, 5, 28, 3, 1, 27, 26, 35, 13, 13, 26, 14, 49, 44, 17, 40, 14, 1, 4, 5, 32, 23, 22, 18, 18, 29, 43, 15, 28, 26, 4, 37, 17, 19, 28, 8, 27, 3, 25, 1, 41, 33, 36, 35, 3, 12, 41, 13, 10, 3, 14, 26, 10, 15, 47, 19, 43, 47, 15, 27, 16, 43, 5, 25, 1, 49, 1, 28, 8, 38, 22, 1, 5, 1, 14, 45, 15, 28, 13, 27, 24, 15, 3, 3, 3, 5, 4, 3, 43, 16, 3, 32, 7, 34, 1, 24, 15, 36, 24, 14, 9, 40, 28, 26, 18, 18, 11, 40, 15, 27, 3, 35, 17, 23, 46, 3, 10, 1, 31, 6, 8, 41, 16, 12, 21, 5, 14, 27, 11, 3, 33, 12, 3, 30, 13, 45, 26, 23, 18, 35, 0, 6, 33, 35, 3, 23, 1, 3, 1, 10, 1, 46, 19, 17, 14, 45, 27, 22, 28, 3, 4, 35, 13, 24, 47, 3, 45, 1, 12, 5, 10, 0, 38, 1, 6, 35, 3, 13, 13, 18, 30, 19, 35, 27, 3, 33, 9, 5, 3, 15, 24, 40, 5, 12, 1, 16, 23, 27, 13, 45, 37, 26, 5, 31, 1, 11, 29, 4, 8, 13, 14, 1, 17, 33, 24, 37, 30, 6, 14, 3, 31, 24, 6, 16, 35, 27, 10, 8, 10, 27, 27, 5, 28, 3, 20, 3, 10, 3, 12, 21, 1, 1, 34, 22, 6, 18, 28, 23, 3, 10, 10, 4, 3, 6, 32, 35, 24, 11, 45, 15, 14, 17, 3, 43, 3, 5, 10, 1, 3, 16, 32, 31, 35, 45, 19, 16, 41, 5, 24, 3, 14, 10, 30, 27, 24, 12, 4, 42, 3, 12, 5, 11, 1, 8, 33, 28, 19, 29, 36, 33, 1, 13, 3, 14, 1, 43, 1, 18, 1, 5, 4, 1, 27, 42, 26, 0, 10, 38, 4, 14, 45, 24, 28, 25, 23, 1, 20, 15, 3, 41, 3, 42, 6, 35, 16, 3, 4, 26, 1, 24, 15, 46, 8, 11, 10, 28, 19, 8, 13, 4, 5, 43, 1, 4, 25, 40, 14, 1, 33, 26, 1, 5, 26, 0, 1, 13, 16, 37, 21, 14, 26, 10, 8, 31, 46, 1, 12, 6, 35, 28, 1, 14, 27, 1, 19, 20, 1, 3, 26, 33, 5, 6, 25, 24, 4, 1, 16, 45, 47, 49, 5, 13, 34, 1, 38, 0, 11, 34, 5, 27, 1, 13, 14, 44, 0, 30, 18, 15, 24, 5, 1, 26, 3, 29, 13, 10]\n"
     ]
    }
   ],
   "source": [
    "final_class = [(i.argmax(axis=1).to('cpu')) for i in out_list]\n",
    "final_output = []\n",
    "for i in final_class:\n",
    "    for j in i:\n",
    "        final_output.append(j.item())\n",
    "print(final_output)"
   ]
  },
  {
   "cell_type": "code",
   "execution_count": 74,
   "id": "80818480",
   "metadata": {},
   "outputs": [],
   "source": [
    "from sklearn.metrics import f1_score\n",
    "def competition_metric(true, pred):\n",
    "    return f1_score(true, pred, average=\"macro\")"
   ]
  },
  {
   "cell_type": "code",
   "execution_count": 75,
   "id": "1c1923a9",
   "metadata": {},
   "outputs": [],
   "source": [
    "score = competition_metric(final_label,final_output)"
   ]
  },
  {
   "cell_type": "code",
   "execution_count": 76,
   "id": "1d36a7a5",
   "metadata": {},
   "outputs": [
    {
     "data": {
      "text/plain": [
       "0.7743026204564666"
      ]
     },
     "execution_count": 76,
     "metadata": {},
     "output_type": "execute_result"
    }
   ],
   "source": [
    "from sklearn.metrics import accuracy_score\n",
    "\n",
    "accuracy_score(final_label,final_output)"
   ]
  },
  {
   "cell_type": "code",
   "execution_count": 77,
   "id": "5a8dd00e",
   "metadata": {},
   "outputs": [
    {
     "name": "stderr",
     "output_type": "stream",
     "text": [
      "100%|████████████████████████████████████████████████████████████████████████████████| 396/396 [02:20<00:00,  2.81it/s]"
     ]
    },
    {
     "name": "stdout",
     "output_type": "stream",
     "text": [
      "Done\n"
     ]
    },
    {
     "name": "stderr",
     "output_type": "stream",
     "text": [
      "\n"
     ]
    }
   ],
   "source": [
    "import torch\n",
    "from tqdm import tqdm\n",
    "from torchvision import transforms\n",
    "test_data = CustomDataset('test',data_dir,test_label,test_transform)\n",
    "test_dataloader = DataLoader(test_data, batch_size=32, shuffle=False)\n",
    "test_transform = transforms.Compose([\n",
    "    transforms.ToPILImage(),\n",
    "    transforms.Resize((224, 224)), \n",
    "    transforms.ToTensor(),\n",
    "])\n",
    "#valid_model = torch.load('model.pt')\n",
    "test_model = resnet\n",
    "test_model.eval()\n",
    "model_preds = []\n",
    "with torch.no_grad():\n",
    "    for i,image in enumerate(tqdm(test_dataloader)):\n",
    "        image = image.to(device)\n",
    "        model_pred = test_model(image)\n",
    "        model_preds += model_pred.argmax(1).detach().cpu().numpy().tolist()\n",
    "print('Done')"
   ]
  },
  {
   "cell_type": "code",
   "execution_count": 82,
   "id": "94ee2408",
   "metadata": {},
   "outputs": [],
   "source": [
    "submit = pd.read_csv(f'{data_dir}/sample_submission.csv')\n",
    "submit['artist'] = model_preds\n",
    "submit['artist'] = [label_dict_decode[i] for i in submit['artist']]\n",
    "submit.to_csv('submission.csv', index=False)"
   ]
  },
  {
   "cell_type": "code",
   "execution_count": 79,
   "id": "ea6e88b3",
   "metadata": {},
   "outputs": [
    {
     "name": "stdout",
     "output_type": "stream",
     "text": [
      "[27, 22, 24, 26, 27, 35, 37, 10, 16, 1, 40, 13, 13, 22, 29, 23, 6, 28, 6, 3, 12, 6, 27, 15, 37, 5, 1, 6, 24, 44, 47, 44, 8, 35, 44, 3, 24, 19, 35, 18, 6, 38, 3, 12, 24, 27, 0, 13, 22, 3, 16, 4, 13, 25, 14, 21, 8, 26, 14, 26, 4, 27, 22, 26, 15, 3, 20, 12, 40, 22, 23, 26, 24, 16, 43, 1, 3, 27, 19, 1, 22, 4, 3, 10, 21, 16, 8, 27, 13, 22, 35, 13, 27, 35, 25, 16, 15, 1, 5, 3, 27, 1, 29, 12, 23, 3, 16, 40, 26, 26, 1, 16, 14, 35, 33, 8, 22, 27, 34, 18, 19, 22, 34, 12, 6, 8, 44, 10, 8, 12, 16, 13, 29, 14, 6, 26, 38, 3, 44, 25, 10, 13, 27, 33, 1, 3, 31, 27, 27, 1, 15, 12, 1, 24, 6, 34, 26, 27, 33, 26, 16, 1, 43, 28, 8, 16, 26, 24, 27, 31, 1, 15, 13, 27, 3, 16, 25, 26, 26, 13, 29, 29, 44, 13, 33, 3, 34, 26, 27, 15, 44, 23, 35, 1, 14, 33, 27, 27, 15, 16, 18, 44, 37, 1, 25, 3, 41, 21, 19, 10, 26, 15, 21, 26, 0, 33, 6, 6, 3, 3, 16, 22, 13, 1, 16, 35, 5, 10, 1, 1, 44, 16, 23, 27, 40, 3, 31, 19, 26, 35, 6, 27, 29, 33, 12, 22, 3, 3, 6, 13, 1, 1, 8, 24, 44, 4, 1, 28, 25, 13, 6, 37, 21, 16, 6, 31, 1, 10, 3, 3, 14, 33, 35, 13, 18, 10, 16, 26, 22, 40, 26, 44, 27, 19, 16, 15, 35, 42, 0, 6, 27, 1, 22, 27, 44, 1, 3, 6, 4, 16, 12, 26, 43, 13, 15, 12, 18, 22, 3, 8, 26, 16, 19, 6, 16, 10, 25, 16, 8, 36, 6, 44, 16, 24, 0, 27, 12, 8, 8, 27, 3, 13, 33, 21, 4, 27, 3, 16, 16, 1, 1, 29, 35, 23, 6, 27, 12, 1, 26, 13, 34, 19, 6, 38, 8, 24, 26, 27, 1, 8, 13, 22, 29, 16, 3, 35, 1, 27, 14, 24, 10, 2, 19, 4, 44, 1, 12, 27, 15, 33, 44, 3, 25, 14, 44, 6, 4, 26, 6, 27, 5, 27, 16, 8, 27, 15, 16, 14, 10, 35, 3, 34, 13, 19, 16, 4, 1, 14, 13, 18, 40, 27, 22, 27, 26, 34, 16, 0, 16, 10, 27, 10, 1, 14, 24, 13, 28, 27, 15, 13, 15, 6, 26, 25, 15, 44, 3, 6, 35, 19, 3, 1, 19, 18, 19, 16, 0, 16, 26, 8, 1, 35, 8, 16, 22, 18, 5, 12, 27, 13, 18, 44, 47, 6, 27, 1, 33, 10, 14, 35, 26, 6, 22, 22, 33, 8, 3, 3, 25, 26, 8, 29, 3, 34, 27, 18, 14, 16, 31, 4, 4, 13, 6, 3, 27, 23, 6, 15, 41, 3, 44, 26, 5, 27, 5, 13, 26, 1, 35, 19, 1, 16, 12, 13, 14, 18, 13, 6, 3, 16, 14, 0, 27, 24, 44, 35, 31, 8, 21, 34, 32, 5, 26, 1, 16, 35, 16, 10, 12, 1, 33, 4, 3, 26, 10, 26, 21, 27, 1, 9, 44, 45, 15, 43, 6, 25, 15, 10, 44, 16, 44, 3, 24, 15, 16, 22, 29, 34, 6, 28, 16, 12, 6, 44, 27, 3, 1, 16, 18, 14, 26, 3, 25, 8, 1, 14, 44, 3, 26, 6, 22, 6, 10, 16, 27, 19, 13, 6, 16, 1, 33, 12, 6, 23, 31, 22, 38, 1, 19, 22, 26, 27, 3, 2, 33, 21, 1, 26, 23, 35, 31, 1, 15, 16, 16, 3, 12, 6, 4, 41, 16, 27, 31, 1, 13, 27, 13, 26, 4, 8, 5, 8, 26, 12, 16, 16, 16, 27, 24, 1, 47, 14, 27, 13, 0, 3, 3, 6, 3, 10, 33, 27, 15, 3, 31, 4, 15, 1, 35, 14, 27, 6, 24, 3, 16, 44, 33, 1, 3, 18, 31, 12, 6, 44, 18, 16, 13, 16, 40, 1, 33, 26, 15, 0, 14, 29, 38, 27, 1, 34, 27, 1, 16, 41, 10, 13, 13, 13, 27, 16, 1, 1, 25, 31, 33, 6, 6, 1, 26, 3, 38, 5, 19, 3, 16, 12, 31, 16, 27, 22, 29, 27, 26, 15, 14, 34, 16, 22, 24, 27, 5, 25, 23, 1, 22, 35, 6, 16, 3, 1, 15, 23, 13, 22, 27, 1, 44, 27, 5, 3, 4, 33, 24, 3, 13, 37, 8, 3, 13, 27, 15, 33, 6, 29, 1, 27, 13, 25, 3, 21, 16, 1, 44, 15, 10, 31, 6, 26, 26, 6, 36, 27, 12, 1, 19, 43, 26, 1, 14, 22, 33, 8, 9, 21, 25, 31, 25, 15, 28, 3, 21, 26, 18, 1, 44, 12, 14, 1, 13, 27, 27, 41, 21, 34, 4, 25, 15, 23, 1, 6, 16, 10, 38, 9, 33, 12, 8, 3, 0, 3, 6, 1, 27, 6, 8, 19, 14, 1, 26, 31, 27, 18, 35, 13, 6, 44, 27, 21, 13, 4, 33, 1, 26, 16, 42, 34, 14, 3, 37, 29, 13, 1, 22, 35, 16, 1, 25, 4, 21, 1, 26, 2, 18, 40, 14, 23, 15, 25, 44, 27, 8, 35, 3, 16, 6, 3, 25, 16, 3, 3, 6, 44, 16, 19, 26, 28, 13, 31, 15, 12, 13, 27, 27, 27, 27, 29, 24, 3, 29, 1, 6, 1, 10, 16, 12, 1, 15, 6, 26, 27, 1, 44, 8, 16, 40, 13, 23, 31, 29, 27, 16, 1, 14, 27, 13, 21, 13, 1, 14, 1, 3, 6, 6, 3, 38, 26, 27, 27, 15, 16, 27, 8, 16, 29, 31, 35, 3, 36, 27, 1, 21, 12, 3, 13, 27, 6, 1, 12, 27, 41, 26, 24, 19, 27, 4, 14, 33, 5, 1, 1, 22, 13, 16, 22, 13, 10, 10, 1, 8, 6, 3, 13, 16, 18, 26, 6, 44, 9, 19, 27, 16, 1, 3, 27, 21, 44, 34, 27, 27, 13, 16, 37, 33, 6, 25, 25, 37, 27, 29, 15, 3, 15, 6, 8, 3, 8, 27, 3, 10, 12, 35, 6, 18, 36, 15, 13, 44, 16, 1, 1, 14, 8, 16, 16, 44, 26, 33, 16, 37, 8, 44, 10, 26, 1, 12, 3, 18, 6, 4, 1, 27, 44, 22, 5, 14, 35, 28, 35, 13, 6, 3, 6, 1, 27, 26, 10, 10, 14, 8, 12, 10, 26, 33, 31, 6, 5, 1, 28, 14, 13, 35, 14, 31, 34, 1, 6, 18, 33, 6, 37, 16, 3, 44, 22, 21, 3, 4, 27, 5, 27, 6, 6, 27, 10, 3, 6, 26, 17, 21, 16, 10, 38, 44, 18, 13, 3, 4, 18, 3, 19, 15, 43, 8, 1, 1, 24, 22, 44, 19, 14, 26, 35, 22, 35, 17, 22, 28, 3, 26, 19, 44, 21, 33, 37, 4, 27, 26, 15, 18, 43, 40, 25, 6, 8, 19, 38, 16, 16, 31, 9, 1, 23, 13, 41, 4, 6, 27, 43, 8, 13, 10, 6, 44, 13, 37, 3, 33, 19, 16, 16, 20, 13, 23, 16, 27, 29, 16, 1, 35, 22, 6, 36, 1, 12, 26, 18, 28, 8, 34, 36, 19, 16, 5, 14, 1, 12, 15, 4, 15, 40, 33, 24, 1, 44, 3, 13, 28, 25, 40, 6, 27, 27, 31, 16, 22, 1, 3, 26, 27, 3, 0, 13, 14, 25, 38, 16, 16, 27, 16, 1, 1, 1, 14, 6, 29, 25, 6, 1, 15, 12, 26, 44, 10, 13, 14, 49, 22, 27, 33, 37, 33, 26, 6, 8, 22, 0, 27, 13, 14, 27, 31, 36, 16, 34, 35, 31, 6, 36, 12, 29, 6, 27, 1, 13, 14, 25, 24, 24, 3, 1, 23, 1, 12, 1, 16, 13, 8, 14, 8, 3, 27, 44, 6, 34, 16, 13, 18, 3, 14, 44, 5, 15, 26, 24, 16, 10, 1, 31, 6, 26, 27, 34, 13, 3, 31, 26, 28, 13, 34, 25, 12, 1, 27, 16, 15, 36, 22, 13, 3, 10, 1, 0, 1, 31, 44, 6, 12, 21, 34, 16, 6, 23, 27, 1, 16, 35, 10, 31, 16, 10, 18, 24, 13, 38, 19, 8, 13, 1, 44, 35, 16, 15, 13, 25, 6, 1, 3, 14, 16, 44, 1, 3, 0, 15, 10, 31, 27, 12, 16, 16, 1, 31, 3, 15, 1, 35, 34, 6, 6, 6, 3, 44, 8, 24, 18, 1, 15, 6, 23, 3, 26, 26, 16, 22, 12, 27, 36, 13, 27, 37, 13, 15, 14, 3, 8, 15, 19, 29, 10, 16, 16, 8, 35, 6, 12, 12, 16, 6, 26, 13, 18, 31, 10, 1, 1, 0, 22, 21, 44, 8, 26, 27, 10, 25, 12, 1, 13, 18, 27, 34, 1, 3, 40, 1, 27, 26, 3, 6, 27, 29, 33, 19, 16, 35, 44, 13, 13, 1, 16, 15, 6, 3, 16, 3, 13, 16, 31, 21, 1, 2, 44, 38, 27, 6, 26, 29, 3, 3, 8, 1, 36, 13, 3, 14, 16, 4, 3, 1, 22, 34, 19, 3, 10, 35, 16, 23, 16, 21, 16, 16, 23, 44, 8, 3, 40, 10, 0, 15, 1, 12, 26, 28, 25, 6, 31, 11, 27, 3, 27, 44, 3, 14, 10, 10, 27, 26, 12, 19, 26, 3, 35, 12, 27, 12, 22, 27, 29, 31, 25, 19, 44, 34, 37, 13, 34, 8, 6, 1, 6, 3, 10, 3, 44, 27, 18, 13, 16, 15, 1, 29, 16, 40, 26, 27, 23, 6, 44, 18, 16, 42, 8, 38, 3, 31, 24, 13, 19, 3, 18, 26, 21, 4, 1, 13, 34, 15, 25, 15, 3, 15, 35, 3, 25, 12, 26, 1, 24, 3, 1, 12, 33, 0, 21, 34, 26, 34, 44, 40, 3, 4, 8, 22, 4, 16, 13, 27, 35, 16, 31, 46, 6, 3, 44, 1, 3, 34, 19, 40, 40, 6, 22, 4, 16, 27, 6, 33, 27, 5, 14, 24, 25, 25, 13, 27, 22, 27, 37, 44, 18, 16, 34, 18, 1, 10, 26, 16, 5, 15, 31, 6, 27, 12, 25, 1, 34, 1, 10, 13, 8, 1, 31, 37, 27, 4, 14, 27, 14, 16, 19, 16, 27, 5, 13, 3, 44, 13, 29, 26, 22, 33, 21, 26, 13, 26, 27, 38, 16, 1, 3, 10, 3, 27, 6, 4, 1, 19, 27, 3, 12, 29, 18, 16, 25, 6, 44, 43, 3, 8, 29, 28, 1, 14, 8, 34, 27, 16, 25, 31, 27, 15, 28, 38, 44, 3, 26, 12, 12, 16, 18, 35, 12, 1, 7, 27, 13, 22, 3, 3, 38, 35, 6, 27, 5, 35, 1, 8, 3, 27, 27, 13, 44, 1, 29, 31, 44, 26, 34, 35, 1, 16, 25, 33, 5, 6, 6, 3, 26, 0, 38, 19, 6, 1, 33, 17, 26, 1, 14, 26, 3, 16, 8, 3, 13, 42, 13, 15, 6, 6, 31, 12, 26, 26, 27, 25, 31, 27, 22, 44, 1, 10, 19, 10, 17, 8, 6, 34, 25, 1, 6, 26, 6, 44, 1, 25, 29, 29, 40, 16, 0, 44, 3, 6, 12, 4, 29, 26, 6, 27, 22, 15, 3, 27, 35, 1, 16, 1, 17, 46, 16, 31, 22, 22, 14, 16, 7, 3, 13, 1, 13, 35, 6, 8, 44, 18, 27, 6, 33, 16, 12, 12, 34, 6, 26, 19, 27, 3, 19, 13, 33, 26, 31, 44, 27, 25, 29, 1, 26, 1, 3, 14, 10, 18, 44, 13, 12, 23, 16, 16, 27, 3, 15, 6, 12, 6, 35, 35, 24, 27, 16, 1, 8, 21, 35, 14, 1, 8, 8, 33, 38, 12, 24, 22, 31, 44, 3, 1, 3, 6, 26, 16, 10, 23, 27, 16, 27, 13, 3, 6, 27, 27, 18, 14, 15, 15, 31, 36, 21, 23, 18, 12, 40, 42, 38, 33, 16, 1, 34, 7, 27, 44, 27, 35, 25, 1, 27, 3, 26, 16, 26, 8, 1, 10, 43, 16, 3, 1, 10, 14, 26, 1, 1, 36, 44, 25, 3, 30, 19, 1, 35, 15, 13, 5, 14, 16, 3, 37, 1, 33, 28, 16, 17, 27, 6, 6, 16, 34, 29, 13, 8, 6, 35, 3, 25, 15, 12, 18, 43, 1, 26, 16, 26, 28, 18, 27, 1, 22, 6, 3, 15, 13, 27, 16, 4, 14, 34, 13, 1, 13, 44, 19, 10, 35, 38, 27, 6, 12, 14, 8, 0, 3, 1, 19, 31, 1, 3, 15, 16, 22, 44, 46, 4, 27, 8, 13, 13, 37, 6, 26, 21, 31, 18, 14, 27, 12, 26, 31, 14, 22, 12, 16, 13, 8, 3, 33, 3, 21, 1, 6, 27, 16, 22, 21, 35, 36, 31, 34, 1, 42, 13, 14, 25, 6, 22, 31, 40, 6, 6, 26, 3, 27, 16, 3, 3, 27, 1, 4, 40, 6, 21, 27, 13, 12, 38, 35, 44, 36, 12, 14, 15, 19, 33, 31, 22, 26, 16, 14, 22, 15, 44, 43, 13, 14, 1, 34, 31, 13, 1, 27, 6, 24, 14, 27, 35, 8, 3, 46, 16, 17, 27, 24, 19, 29, 3, 40, 26, 36, 3, 1, 3, 41, 3, 16, 7, 1, 42, 8, 14, 33, 13, 6, 35, 25, 3, 24, 44, 21, 14, 1, 16, 25, 18, 27, 1, 26, 26, 16, 31, 25, 15, 6, 12, 14, 25, 13, 27, 21, 34, 37, 22, 38, 22, 16, 3, 40, 27, 43, 27, 27, 26, 5, 10, 18, 6, 4, 1, 16, 13, 12, 31, 8, 6, 1, 21, 24, 26, 20, 3, 22, 14, 19, 3, 12, 1, 1, 13, 35, 12, 30, 16, 27, 26, 1, 4, 15, 6, 15, 16, 46, 31, 8, 27, 16, 18, 27, 0, 44, 16, 3, 44, 22, 37, 6, 18, 15, 6, 12, 33, 3, 14, 27, 1, 25, 31, 0, 6, 16, 13, 25, 8, 27, 10, 26, 15, 19, 1, 29, 8, 1, 25, 13, 22, 13, 44, 3, 6, 19, 26, 22, 34, 34, 44, 23, 25, 35, 1, 28, 42, 27, 3, 21, 1, 15, 26, 12, 27, 27, 16, 44, 15, 11, 27, 13, 14, 16, 26, 10, 25, 15, 21, 35, 1, 25, 8, 13, 29, 6, 3, 18, 1, 44, 33, 1, 31, 34, 3, 14, 16, 31, 22, 6, 14, 3, 0, 27, 31, 1, 22, 20, 15, 1, 10, 16, 27, 16, 16, 37, 44, 25, 43, 29, 4, 21, 35, 6, 18, 25, 3, 44, 40, 8, 16, 8, 44, 1, 22, 13, 12, 15, 3, 42, 34, 14, 13, 35, 27, 6, 44, 16, 27, 15, 8, 1, 41, 4, 8, 26, 16, 37, 21, 5, 1, 31, 10, 3, 24, 0, 37, 21, 3, 16, 6, 12, 8, 26, 5, 44, 13, 1, 27, 1, 3, 27, 16, 3, 21, 22, 35, 27, 40, 22, 13, 29, 4, 7, 26, 35, 8, 35, 34, 33, 19, 16, 18, 22, 13, 10, 6, 35, 14, 27, 5, 14, 7, 33, 16, 1, 12, 15, 26, 27, 44, 27, 16, 3, 1, 6, 6, 26, 31, 29, 16, 19, 26, 35, 27, 25, 15, 1, 44, 3, 27, 13, 38, 33, 26, 43, 12, 34, 3, 12, 1, 15, 6, 13, 1, 46, 12, 21, 34, 17, 17, 3, 5, 6, 6, 13, 1, 10, 15, 28, 41, 26, 13, 16, 4, 31, 27, 35, 27, 20, 1, 44, 1, 27, 34, 13, 14, 16, 40, 23, 3, 31, 27, 1, 7, 31, 36, 8, 31, 12, 25, 15, 1, 27, 1, 22, 16, 16, 40, 13, 46, 14, 44, 35, 16, 26, 3, 3, 38, 16, 19, 20, 13, 42, 1, 26, 31, 14, 21, 21, 6, 3, 4, 46, 12, 49, 1, 12, 27, 1, 25, 3, 26, 22, 3, 16, 8, 16, 35, 19, 47, 36, 29, 33, 3, 33, 10, 6, 27, 3, 31, 34, 21, 16, 16, 19, 33, 13, 12, 24, 27, 1, 22, 3, 40, 17, 1, 16, 27, 15, 22, 24, 13, 43, 14, 15, 27, 26, 3, 13, 1, 26, 15, 19, 14, 12, 14, 14, 6, 33, 22, 40, 35, 1, 31, 6, 24, 12, 1, 16, 5, 8, 1, 15, 27, 27, 44, 6, 10, 25, 18, 15, 23, 3, 44, 4, 33, 27, 27, 38, 34, 44, 26, 14, 29, 16, 35, 1, 6, 24, 26, 25, 12, 1, 22, 21, 13, 1, 14, 16, 13, 16, 16, 26, 14, 1, 19, 24, 24, 31, 3, 34, 44, 22, 1, 16, 25, 44, 3, 27, 13, 14, 25, 8, 15, 6, 27, 8, 33, 3, 46, 35, 35, 8, 13, 8, 13, 1, 44, 1, 41, 4, 26, 38, 13, 31, 27, 15, 12, 13, 25, 26, 29, 16, 6, 6, 30, 24, 27, 22, 29, 14, 3, 3, 16, 13, 10, 44, 3, 16, 1, 19, 35, 16, 37, 1, 26, 24, 27, 16, 13, 26, 27, 22, 16, 25, 27, 26, 30, 15, 24, 1, 6, 27, 27, 18, 12, 3, 22, 15, 14, 3, 37, 13, 26, 31, 33, 25, 6, 1, 35, 19, 3, 1, 8, 28, 16, 10, 27, 10, 27, 13, 38, 44, 40, 5, 18, 34, 16, 27, 33, 18, 8, 1, 22, 6, 26, 3, 27, 27, 34, 6, 8, 1, 4, 16, 25, 31, 3, 22, 35, 14, 44, 15, 40, 1, 10, 4, 13, 21, 16, 26, 4, 35, 21, 6, 33, 26, 3, 6, 21, 10, 3, 29, 27, 1, 5, 3, 8, 18, 14, 0, 10, 41, 44, 30, 1, 16, 13, 6, 19, 1, 27, 26, 3, 6, 25, 22, 16, 43, 8, 15, 24, 18, 1, 27, 4, 16, 46, 14, 26, 14, 22, 3, 21, 35, 19, 6, 27, 33, 40, 10, 3, 16, 3, 23, 31, 1, 6, 5, 14, 28, 34, 26, 13, 26, 12, 29, 24, 20, 22, 3, 44, 35, 18, 16, 24, 27, 6, 40, 1, 10, 16, 7, 19, 29, 6, 26, 16, 6, 42, 34, 25, 6, 16, 35, 44, 13, 38, 6, 6, 31, 1, 27, 4, 3, 23, 29, 8, 27, 1, 14, 43, 26, 21, 3, 10, 15, 13, 27, 19, 3, 32, 22, 1, 21, 22, 19, 38, 15, 6, 16, 10, 33, 27, 40, 27, 24, 26, 6, 42, 18, 25, 27, 22, 28, 31, 35, 8, 34, 16, 25, 6, 35, 41, 5, 13, 8, 1, 12, 5, 34, 16, 27, 8, 27, 3, 1, 7, 1, 40, 3, 21, 8, 26, 16, 25, 38, 33, 14, 31, 10, 14, 6, 6, 17, 38, 1, 1, 42, 27, 13, 3, 3, 19, 4, 7, 27, 15, 42, 44, 41, 1, 22, 15, 21, 16, 26, 31, 3, 3, 8, 17, 18, 16, 16, 15, 3, 1, 21, 14, 27, 16, 6, 3, 18, 36, 21, 44, 1, 27, 4, 26, 29, 13, 27, 14, 13, 10, 37, 1, 1, 17, 13, 16, 6, 26, 3, 1, 1, 35, 16, 12, 3, 15, 15, 33, 6, 1, 10, 16, 18, 6, 27, 27, 21, 3, 41, 3, 14, 11, 16, 14, 35, 34, 21, 24, 27, 26, 6, 25, 24, 33, 16, 19, 14, 27, 1, 1, 3, 16, 26, 27, 1, 26, 25, 31, 5, 34, 35, 18, 6, 10, 5, 13, 29, 3, 6, 21, 16, 33, 22, 4, 35, 29, 33, 14, 10, 27, 16, 43, 16, 16, 13, 31, 23, 3, 27, 6, 3, 38, 6, 3, 27, 5, 25, 38, 31, 1, 32, 26, 44, 1, 3, 3, 26, 3, 12, 5, 33, 15, 34, 0, 16, 25, 1, 24, 1, 10, 22, 25, 34, 1, 26, 18, 6, 34, 31, 6, 25, 5, 14, 16, 37, 10, 16, 18, 12, 31, 8, 44, 21, 8, 34, 14, 21, 1, 47, 3, 15, 16, 7, 31, 3, 27, 22, 35, 13, 23, 35, 27, 14, 43, 26, 35, 25, 1, 26, 3, 22, 21, 37, 15, 14, 3, 35, 3, 1, 12, 26, 31, 1, 7, 31, 16, 3, 16, 13, 6, 1, 34, 27, 10, 18, 27, 5, 27, 16, 44, 42, 1, 31, 5, 3, 46, 3, 3, 16, 27, 25, 35, 31, 27, 16, 27, 3, 6, 10, 15, 33, 12, 21, 8, 22, 16, 1, 8, 14, 16, 19, 18, 26, 15, 3, 12, 19, 27, 26, 1, 6, 38, 12, 31, 4, 22, 26, 33, 25, 38, 1, 22, 16, 14, 0, 22, 35, 6, 41, 6, 44, 18, 1, 27, 8, 27, 22, 34, 27, 1, 16, 26, 8, 42, 31, 21, 15, 30, 3, 1, 3, 26, 14, 8, 10, 12, 28, 1, 33, 36, 3, 6, 13, 6, 15, 22, 25, 3, 8, 27, 4, 44, 5, 16, 15, 16, 3, 19, 1, 18, 12, 27, 6, 1, 33, 25, 16, 31, 14, 31, 1, 26, 29, 1, 27, 3, 1, 16, 14, 13, 30, 8, 1, 14, 18, 16, 15, 27, 38, 3, 35, 27, 26, 26, 1, 3, 5, 22, 16, 16, 13, 14, 1, 27, 16, 29, 6, 19, 15, 12, 6, 26, 38, 33, 19, 35, 19, 26, 27, 1, 6, 12, 31, 16, 1, 29, 2, 10, 3, 25, 26, 15, 44, 21, 13, 6, 28, 8, 15, 26, 25, 26, 13, 25, 14, 1, 18, 27, 6, 21, 24, 27, 19, 8, 35, 26, 3, 21, 35, 13, 15, 16, 44, 3, 16, 40, 16, 5, 12, 42, 46, 6, 5, 34, 1, 33, 13, 1, 18, 6, 15, 6, 1, 31, 3, 14, 8, 33, 16, 6, 13, 10, 31, 27, 22, 49, 33, 13, 3, 27, 16, 8, 35, 25, 14, 27, 26, 40, 3, 44, 44, 26, 16, 8, 13, 31, 27, 1, 15, 29, 1, 8, 35, 3, 1, 18, 6, 21, 13, 8, 34, 22, 44, 27, 1, 12, 14, 35, 27, 19, 3, 25, 31, 13, 3, 1, 3, 4, 15, 4, 13, 8, 27, 3, 23, 1, 27, 35, 33, 15, 16, 10, 15, 31, 22, 6, 6, 29, 26, 6, 14, 38, 28, 35, 25, 44, 12, 33, 23, 1, 6, 13, 13, 6, 33, 16, 14, 15, 1, 44, 35, 25, 15, 26, 27, 37, 34, 12, 5, 31, 3, 4, 16, 27, 31, 13, 28, 15, 26, 3, 3, 13, 16, 6, 5, 1, 42, 33, 3, 1, 18, 19, 33, 1, 19, 27, 18, 1, 26, 3, 27, 3, 16, 12, 14, 34, 1, 1, 25, 3, 16, 26, 1, 1, 3, 36, 27, 1, 37, 33, 26, 12, 22, 35, 6, 23, 34, 44, 12, 6, 15, 6, 5, 25, 19, 29, 6, 3, 1, 22, 33, 14, 21, 10, 13, 32, 16, 33, 35, 6, 4, 26, 34, 3, 1, 15, 3, 8, 8, 25, 16, 43, 43, 26, 18, 3, 18, 12, 1, 32, 6, 3, 12, 35, 10, 15, 16, 16, 6, 27, 27, 42, 38, 22, 26, 34, 44, 15, 10, 41, 4, 44, 1, 18, 27, 41, 19, 35, 25, 1, 14, 27, 26, 3, 3, 5, 1, 1, 27, 13, 16, 33, 15, 33, 16, 22, 1, 34, 12, 1, 16, 10, 44, 29, 1, 26, 21, 6, 19, 1, 22, 46, 8, 26, 13, 1, 44, 0, 24, 13, 1, 27, 16, 33, 10, 43, 22, 44, 12, 6, 27, 19, 30, 3, 8, 4, 35, 13, 3, 29, 22, 16, 42, 14, 26, 16, 15, 31, 15, 24, 40, 27, 22, 1, 10, 27, 6, 0, 21, 8, 21, 1, 43, 34, 4, 16, 3, 14, 4, 3, 19, 16, 13, 26, 10, 6, 13, 27, 37, 26, 1, 8, 46, 6, 16, 22, 27, 16, 12, 13, 31, 8, 29, 1, 3, 12, 35, 40, 3, 19, 3, 14, 3, 21, 15, 22, 25, 14, 27, 6, 10, 25, 3, 21, 26, 24, 16, 44, 15, 27, 4, 12, 44, 3, 4, 13, 34, 38, 33, 4, 13, 1, 14, 3, 27, 40, 26, 14, 5, 42, 18, 16, 44, 38, 3, 15, 13, 1, 46, 26, 44, 27, 21, 6, 4, 16, 13, 26, 38, 1, 31, 6, 22, 26, 3, 15, 27, 14, 1, 18, 6, 35, 10, 44, 44, 26, 13, 8, 27, 25, 3, 14, 26, 3, 33, 33, 1, 31, 16, 1, 18, 13, 16, 16, 1, 19, 3, 15, 20, 22, 6, 4, 33, 27, 37, 31, 1, 1, 12, 14, 26, 15, 10, 16, 26, 6, 27, 22, 43, 5, 3, 27, 13, 33, 13, 12, 16, 6, 37, 3, 20, 34, 25, 19, 16, 21, 1, 27, 25, 1, 16, 29, 16, 0, 27, 5, 27, 16, 19, 43, 0, 14, 34, 6, 35, 18, 34, 33, 38, 3, 44, 13, 22, 3, 34, 1, 3, 31, 13, 22, 38, 25, 3, 40, 15, 37, 3, 6, 12, 16, 16, 18, 21, 1, 24, 26, 33, 6, 14, 12, 13, 29, 31, 19, 26, 27, 43, 1, 21, 25, 31, 21, 13, 13, 22, 26, 3, 1, 3, 3, 47, 33, 37, 37, 15, 19, 8, 16, 31, 25, 15, 25, 27, 5, 44, 1, 6, 31, 12, 36, 16, 33, 14, 26, 26, 28, 26, 31, 1, 26, 35, 6, 20, 9, 35, 16, 18, 27, 35, 22, 27, 23, 16, 4, 3, 44, 46, 32, 22, 15, 12, 14, 1, 27, 22, 16, 29, 10, 27, 1, 19, 4, 8, 33, 43, 16, 46, 1, 16, 20, 22, 26, 6, 5, 24, 22, 10, 44, 13, 12, 12, 3, 25, 29, 10, 35, 16, 3, 3, 19, 1, 27, 25, 22, 42, 26, 3, 10, 13, 6, 44, 8, 16, 19, 8, 25, 40, 6, 16, 31, 16, 38, 15, 14, 12, 13, 1, 1, 14, 1, 27, 33, 44, 14, 26, 10, 35, 1, 29, 4, 19, 16, 1, 22, 18, 33, 6, 31, 15, 22, 14, 16, 14, 6, 35, 21, 6, 31, 3, 5, 25, 5, 16, 13, 4, 27, 36, 1, 1, 14, 3, 44, 26, 22, 19, 31, 3, 16, 27, 31, 1, 3, 1, 18, 15, 34, 25, 4, 6, 16, 10, 10, 42, 14, 27, 16, 1, 16, 8, 12, 1, 17, 22, 4, 18, 40, 3, 44, 1, 19, 3, 1, 21, 26, 13, 27, 12, 16, 6, 16, 35, 34, 27, 16, 26, 13, 16, 25, 18, 3, 27, 10, 16, 1, 1, 26, 1, 14, 38, 15, 34, 27, 16, 3, 23, 6, 26, 27, 18, 19, 22, 16, 13, 43, 21, 3, 27, 1, 33, 6, 15, 36, 19, 3, 13, 31, 38, 14, 44, 41, 3, 25, 27, 22, 6, 18, 16, 23, 24, 13, 8, 27, 6, 16, 23, 14, 3, 1, 1, 4, 44, 6, 35, 16, 12, 1, 1, 27, 1, 19, 6, 37, 31, 33, 8, 26, 22, 27, 6, 15, 12, 3, 18, 43, 3, 13, 16, 14, 15, 10, 18, 27, 3, 44, 6, 10, 19, 30, 1, 12, 33, 15, 4, 37, 22, 4, 6, 27, 26, 29, 16, 16, 14, 1, 19, 15, 9, 29, 14, 3, 26, 18, 25, 3, 6, 34, 26, 4, 3, 10, 21, 22, 16, 22, 13, 6, 25, 14, 10, 6, 3, 13, 31, 18, 40, 8, 1, 27, 16, 35, 1, 12, 27, 13, 29, 37, 33, 27, 6, 25, 1, 23, 3, 6, 5, 1, 31, 8, 1, 14, 16, 6, 46, 31, 22, 8, 26, 27, 6, 35, 26, 22, 27, 13, 31, 33, 15, 24, 3, 16, 44, 37, 43, 42, 6, 19, 1, 23, 3, 26, 15, 27, 1, 44, 25, 0, 18, 13, 27, 25, 27, 33, 44, 26, 1, 22, 27, 14, 14, 8, 27, 10, 19, 1, 35, 6, 16, 33, 1, 44, 22, 6, 41, 44, 18, 0, 13, 38, 38, 6, 4, 26, 21, 3, 1, 3, 27, 6, 16, 3, 24, 6, 1, 27, 6, 34, 10, 6, 1, 35, 31, 15, 26, 25, 22, 16, 27, 3, 16, 21, 3, 6, 35, 1, 10, 43, 33, 13, 9, 16, 40, 8, 27, 19, 2, 1, 41, 31, 15, 27, 38, 3, 3, 18, 35, 26, 6, 26, 27, 12, 22, 37, 3, 1, 16, 16, 24, 14, 24, 31, 24, 6, 30, 44, 26, 1, 16, 1, 29, 5, 1, 3, 24, 25, 8, 26, 3, 6, 18, 37, 19, 8, 44, 44, 27, 29, 6, 1, 9, 27, 15, 27, 33, 6, 21, 13, 10, 37, 1, 26, 16, 44, 6, 10, 33, 44, 38, 27, 35, 27, 4, 16, 5, 13, 1, 16, 36, 15, 22, 24, 27, 1, 21, 25, 8, 18, 3, 25, 25, 40, 25, 27, 13, 16, 13, 3, 3, 6, 1, 19, 12, 21, 26, 1, 27, 16, 5, 25, 16, 14, 1, 22, 14, 21, 37, 40, 8, 26, 6, 44, 5, 12, 16, 13, 3, 24, 4, 3, 22, 14, 1, 35, 13, 6, 12, 6, 33, 13, 18, 31, 25, 15, 3, 28, 6, 26, 10, 24, 26, 27, 19, 4, 35, 27, 1, 18, 43, 15, 13, 14, 26, 16, 16, 3, 17, 12, 15, 33, 27, 13, 3, 27, 6, 26, 16, 36, 34, 6, 35, 10, 3, 22, 16, 3, 44, 13, 13, 37, 8, 16, 44, 14, 16, 27, 1, 14, 3, 34, 15, 16, 9, 18, 42, 27, 21, 27, 46, 16, 1, 35, 40, 26, 31, 8, 16, 19, 1, 3, 27, 15, 28, 25, 16, 24, 14, 10, 1, 12, 4, 26, 13, 26, 10, 35, 13, 6, 21, 1, 27, 22, 12, 8, 3, 44, 31, 12, 3, 44, 15, 27, 35, 13, 19, 3, 27, 12, 12, 16, 34, 40, 12, 13, 31, 27, 35, 10, 1, 15, 6, 26, 30, 0, 6, 16, 1, 43, 27, 16, 3, 16, 15, 5, 1, 13, 40, 8, 35, 22, 44, 29, 27, 21, 13, 10, 16, 13, 16, 6, 19, 27, 31, 3, 30, 44, 19, 22, 23, 21, 43, 15, 26, 5, 18, 3, 31, 27, 35, 27, 44, 40, 3, 27, 27, 21, 3, 44, 19, 16, 1, 27, 14, 6, 10, 44, 26, 13, 1, 26, 6, 27, 5, 14, 26, 15, 16, 29, 3, 22, 25, 13, 6, 14, 1, 26, 29, 2, 16, 1, 6, 26, 19, 10, 1, 46, 1, 8, 12, 34, 13, 35, 3, 10, 40, 14, 44, 31, 16, 0, 12, 27, 13, 26, 16, 31, 16, 6, 10, 3, 46, 16, 14, 13, 44, 21, 18, 1, 8, 22, 16, 3, 1, 27, 34, 29, 16, 19, 15, 27, 10, 27, 1, 6, 1, 4, 13, 38, 5, 3, 43, 25, 15, 26, 6, 16, 19, 18, 10, 35, 47, 23, 35, 1, 30, 22, 3, 6, 1, 33, 8, 31, 3, 16, 13, 4, 38, 25, 14, 41, 29, 14, 3, 3, 4, 18, 6, 25, 24, 3, 13, 16, 27, 34, 12, 44, 1, 16, 38, 25, 26, 42, 35, 25, 6, 6, 19, 44, 3, 3, 21, 3, 1, 28, 13, 1, 15, 16, 41, 33, 23, 16, 27, 20, 27, 26, 6, 13, 22, 16, 31, 18, 16, 35, 27, 6, 25, 3, 43, 44, 26, 6, 26, 13, 18, 38, 34, 3, 40, 14, 29, 43, 3, 5, 1, 15, 16, 31, 19, 12, 16, 44, 27, 8, 6, 25, 1, 13, 4, 3, 13, 19, 1, 16, 3, 6, 18, 34, 35, 22, 1, 8, 6, 22, 3, 26, 29, 3, 26, 10, 35, 27, 27, 23, 3, 5, 6, 1, 4, 44, 24, 26, 40, 15, 8, 42, 19, 3, 25, 1, 31, 41, 8, 27, 6, 19, 27, 1, 15, 3, 16, 16, 24, 1, 3, 33, 4, 6, 13, 31, 27, 27, 4, 27, 4, 25, 1, 38, 21, 24, 31, 19, 44, 26, 5, 16, 13, 1, 6, 32, 3, 34, 35, 33, 1, 6, 3, 26, 6, 3, 10, 12, 14, 8, 27, 15, 22, 24, 40, 3, 33, 27, 10, 16, 13, 33, 14, 16, 27, 3, 40, 1, 27, 13, 16, 4, 6, 35, 6, 37, 15, 27, 26, 16, 18, 2, 3, 3, 12, 16, 41, 3, 14, 6, 33, 36, 22, 13, 16, 16, 27, 26, 31, 43, 2, 10, 6, 12, 31, 6, 23, 13, 26, 27, 1, 6, 21, 26, 6, 19, 0, 1, 4, 24, 14, 21, 13, 24, 3, 15, 27, 16, 15, 6, 32, 40, 38, 25, 10, 26, 3, 27, 21, 3, 5, 22, 31, 13, 44, 33, 5, 27, 3, 27, 1, 6, 19, 33, 5, 3, 31, 5, 16, 6, 34, 26, 35, 37, 33, 14, 13, 1, 27, 36, 27, 22, 13, 4, 25, 13, 25, 44, 16, 1, 27, 25, 26, 1, 27, 14, 13, 44, 29, 16, 14, 38, 27, 19, 3, 16, 8, 8, 6, 13, 5, 33, 1, 16, 6, 12, 6, 3, 34, 3, 35, 22, 35, 1, 33, 44, 3, 14, 4, 6, 36, 1, 12, 6, 1, 16, 6, 27, 1, 16, 10, 4, 44, 8, 40, 4, 3, 27, 16, 31, 0, 26, 13, 8, 9, 16, 22, 25, 4, 33, 3, 18, 22, 33, 13, 35, 12, 22, 26, 27, 15, 1, 35, 44, 29, 5, 27, 13, 12, 6, 19, 6, 16, 14, 1, 25, 1, 3, 14, 29, 16, 35, 3, 33, 6, 38, 34, 3, 12, 16, 27, 3, 10, 18, 23, 15, 21, 42, 6, 13, 4, 15, 1, 13, 27, 16, 24, 36, 15, 10, 3, 15, 40, 3, 34, 1, 1, 44, 31, 6, 13, 27, 26, 3, 15, 14, 12, 6, 24, 26, 44, 16, 27, 14, 25, 8, 33, 18, 35, 35, 44, 10, 8, 1, 4, 44, 14, 3, 12, 27, 1, 14, 23, 30, 26, 29, 22, 16, 1, 44, 1, 12, 16, 13, 10, 21, 43, 46, 13, 27, 1, 1, 3, 6, 15, 3, 1, 8, 27, 14, 3, 3, 27, 18, 1, 40, 27, 16, 12, 19, 27, 10, 15, 13, 22, 26, 26, 23, 0, 14, 6, 29, 38, 16, 31, 3, 1, 35, 6, 44, 14, 38, 19, 18, 35, 19, 27, 8, 26, 15, 4, 36, 4, 1, 16, 44, 27, 12, 10, 27, 27, 3, 34, 15, 15, 13, 35, 43, 47, 27, 27, 21, 8, 16, 15, 6, 16, 26, 27, 1, 44, 14, 44, 8, 1, 29, 25, 27, 22, 37, 3, 40, 15, 18, 14, 3, 6, 27, 1, 4, 15, 22, 34, 14, 25, 26, 13, 1, 16, 8, 3, 5, 34, 12, 3, 18, 31, 23, 8, 35, 1, 26, 44, 33, 47, 3, 3, 27, 19, 29, 1, 12, 16, 3, 44, 31, 22, 26, 22, 6, 18, 43, 19, 15, 10, 10, 49, 2, 7, 27, 14, 8, 3, 34, 13, 16, 26, 4, 30, 17, 27, 3, 1, 8, 31, 29, 21, 16, 8, 4, 38, 7, 1, 35, 26, 16, 41, 16, 1, 13, 46, 16, 25, 27, 1, 3, 6, 28, 26, 22, 19, 6, 44, 27, 44, 19, 6, 12, 25, 26, 23, 6, 3, 26, 3, 15, 18, 44, 27, 1, 27, 6, 8, 5, 16, 3, 3, 16, 22, 24, 0, 14, 2, 13, 16, 44, 10, 44, 26, 1, 26, 6, 10, 13, 1, 6, 6, 35, 16, 16, 1, 15, 37, 21, 3, 27, 0, 16, 13, 3, 1, 22, 31, 38, 14, 8, 3, 27, 12, 27, 6, 4, 33, 34, 16, 14, 3, 26, 17, 22, 10, 25, 21, 18, 34, 26, 19, 37, 1, 6, 43, 42, 27, 27, 15, 1, 8, 35, 3, 5, 37, 6, 26, 1, 16, 22, 3, 1, 4, 10, 13, 21, 29, 13, 8, 13, 1, 22, 27, 33, 42, 14, 12, 27, 3, 34, 37, 27, 6, 31, 29, 17, 4, 44, 15, 3, 1, 14, 3, 15, 33, 12, 27, 6, 37, 18, 26, 3, 27, 1, 1, 34, 18, 21, 16, 31, 13, 26, 44, 34, 29, 6, 14, 27, 13, 18, 6, 1, 16, 2, 1, 13, 1, 44, 12, 3, 19, 22, 43, 31, 26, 8, 3, 16, 13, 4, 26, 24, 9, 3, 35, 41, 1, 19, 6, 46, 37, 1, 27, 34, 3, 22, 21, 25, 26, 35, 15, 17, 13, 6, 15, 1, 3, 33, 16, 33, 5, 25, 8, 31, 38, 27, 16, 29, 1, 13, 1, 3, 4, 3, 6, 16, 34, 2, 19, 34, 21, 31, 27, 1, 5, 26, 36, 35, 1, 33, 14, 16, 31, 12, 16, 26, 22, 16, 35, 27, 44, 23, 6, 6, 13, 22, 25, 8, 22, 21, 3, 27, 33, 1, 1, 3, 34, 26, 6, 12, 16, 13, 27, 35, 46, 28, 15, 24, 14, 35, 18, 27, 14, 6, 5, 1, 32, 6, 16, 3, 8, 10, 44, 40, 5, 37, 6, 35, 13, 10, 4, 26, 38, 27, 19, 1, 6, 22, 4, 3, 6, 12, 31, 16, 27, 25, 38, 35, 27, 8, 23, 26, 27, 13, 16, 3, 15, 27, 40, 13, 41, 1, 21, 26, 42, 24, 3, 16, 44, 29, 10, 27, 13, 6, 25, 23, 27, 19, 33, 19, 1, 15, 31, 33, 44, 3, 1, 31, 10, 8, 26, 44, 27, 27, 8, 24, 14, 23, 6, 26, 13, 22, 16, 12, 6, 22, 13, 37, 3, 5, 1, 4, 34, 6, 10, 22, 3, 14, 25, 16, 21, 26, 6, 1, 13, 27, 3, 43, 3, 16, 35, 26, 34, 18, 43, 1, 6, 24, 16, 44, 1, 12, 31, 44, 40, 22, 34, 14, 4, 33, 3, 6, 0, 10, 7, 0, 1, 12, 6, 17, 22, 25, 18, 8, 13, 27, 16, 16, 3, 18, 8, 19, 6, 5, 12, 31, 33, 1, 36, 1, 16, 4, 14, 26, 27, 1, 3, 3, 34, 25, 16, 27, 6, 26, 3, 3, 27, 1, 12, 22, 10, 15, 44, 5, 16, 13, 6, 27, 6, 16, 3, 1, 14, 31, 16, 1, 37, 29, 6, 38, 22, 34, 19, 8, 26, 27, 7, 10, 13, 1, 3, 16, 44, 23, 18, 21, 46, 12, 1, 19, 4, 3, 42, 19, 25, 31, 34, 24, 19, 3, 6, 3, 27, 23, 16, 1, 6, 33, 6, 31, 44, 14, 0, 22, 35, 1, 13, 8, 3, 1, 29, 24, 24, 1, 26, 22, 10, 21, 35, 27, 3, 10, 6, 6, 16, 41, 16, 15, 3, 8, 34, 31, 6, 31, 13, 27, 16, 16, 33, 15, 43, 23, 23, 6, 13, 26, 17, 16, 27, 44, 1, 33, 6, 14, 1, 44, 35, 1, 27, 16, 3, 33, 16, 10, 8, 19, 21, 2, 3, 36, 31, 47, 44, 15, 8, 3, 16, 16, 34, 6, 0, 7, 31, 22, 10, 22, 8, 15, 13, 21, 27, 1, 38, 34, 21, 12, 21, 1, 32, 27, 16, 26, 3, 1, 27, 3, 40, 16, 15, 3, 27, 14, 22, 13, 1, 3, 44, 25, 25, 27, 21, 16, 44, 6, 1, 26, 8, 19, 8, 10, 45, 13, 14, 27, 6, 25, 10, 31, 16, 38, 21, 3, 44, 28, 3, 3, 19, 27, 33, 0, 16, 6, 10, 14, 16, 16, 8, 43, 24, 27, 23, 8, 1, 31, 3, 26, 27, 15, 12, 40, 27, 2, 27, 19, 1, 31, 7, 5, 35, 6, 26, 8, 16, 10, 15, 10, 3, 12, 19, 33, 13, 44, 26, 34, 3, 16, 21, 0, 12, 34, 14, 43, 25, 22, 8, 26, 1, 21, 26, 8, 15, 25, 15, 17, 38, 27, 9, 3, 16, 31, 6, 27, 13, 24, 13, 1, 13, 14, 29, 12, 29, 16, 1, 34, 16, 16, 1, 8, 43, 1, 29, 35, 16, 6, 27, 13, 27, 26, 3, 6, 18, 12, 23, 1, 18, 9, 10, 3, 7, 34, 1, 4, 15, 31, 36, 27, 19, 17, 3, 16, 20, 32, 18, 6, 27, 21, 6, 1, 3, 43, 1, 33, 1, 5, 10, 26, 8, 44, 19, 13, 16, 38, 26, 25, 1, 18, 44, 8, 12, 1, 35, 8, 10, 12, 15, 3, 26, 1, 34, 14, 14, 13, 22, 6, 3, 31, 5, 16, 33, 24, 3, 36, 40, 22, 27, 27, 38, 26, 1, 3, 6, 33, 13, 34, 1, 29, 23, 27, 5, 24, 6, 10, 3, 14, 27, 1, 15, 14, 16, 3, 13, 16, 11, 26, 22, 10, 1, 1, 18, 3, 21, 19, 3, 10, 3, 29, 44, 12, 22, 3, 27, 6, 3, 25, 44, 1, 16, 26, 13, 18, 31, 15, 27, 5, 14, 33, 26, 33, 35, 25, 49, 21, 12, 13, 1, 15, 31, 3, 3, 27, 1, 40, 14, 26, 6, 4, 33, 27, 24, 3, 15, 35, 16, 4, 21, 1, 31, 28, 10, 27, 22, 16, 1, 1, 6, 25, 10, 6, 19, 1, 3, 22, 29, 35, 1, 3, 10, 13, 12, 34, 15, 14, 3, 31, 21, 26, 3, 31, 3, 16, 27, 6, 31, 18, 16, 8, 27, 1, 26, 38, 20, 16, 13, 43, 15, 27, 31, 3, 8, 44, 1, 1, 8, 26, 0, 33, 26, 18, 21, 6, 40, 31, 6, 0, 27, 3, 16, 16, 13, 27, 10, 1, 16, 6, 44, 26, 43, 10, 1, 16, 13, 19, 27, 44, 33, 27, 4, 34, 35, 16, 31, 6, 13, 14, 3, 13, 4, 8, 40, 22, 29, 1, 12, 21, 16, 14, 19, 8, 22, 26, 44, 13, 10, 12, 21, 14, 12, 29, 15, 42, 0, 16, 3, 1, 27, 35, 49, 37, 10, 35, 27, 6, 1, 37, 31, 22, 26, 44, 4, 10, 16, 13, 40, 1, 6, 27, 21, 1, 6, 40, 27, 34, 1, 19, 37, 3, 12, 3, 5, 35, 16, 3, 13, 15, 8, 44, 14, 18, 35, 21, 31, 27, 22, 1, 3, 23, 16, 16, 15, 27, 6, 44, 3, 14, 44, 1, 1, 16, 47, 14, 16, 31, 12, 1, 26, 49, 22, 19, 44, 12, 8, 35, 3, 13, 10, 26, 12, 1, 41, 34, 6, 19, 37, 4, 34, 27, 25, 44, 14, 3, 1, 38, 6, 33, 18, 25, 16, 24, 46, 3, 41, 42, 0, 42, 10, 4, 1, 25, 13, 14, 1, 6, 1, 27, 46, 9, 12, 26, 35, 5, 27, 8, 3, 44, 3, 16, 15, 12, 10, 26, 6, 47, 31, 21, 16, 27, 28, 14, 12, 1, 44, 15, 29, 25, 10, 27, 1, 16, 3, 16, 26, 14, 6, 8, 22, 24, 18, 13, 33, 25, 6, 27, 27, 24, 34, 6, 3, 33, 3, 3, 33, 36, 25, 44, 6, 27, 26, 16, 22, 21, 25, 26, 38, 19, 14, 27, 1, 40, 4, 1, 1, 25, 15, 25, 29, 1, 33, 26, 22, 7, 14, 15, 0, 23, 16, 27, 1, 18, 6, 3, 34, 33, 38, 35, 3, 37, 27, 36, 25, 9, 8, 21, 6, 0, 1, 28, 16, 13, 4, 31, 27, 16, 31, 14, 13, 27, 1, 35, 4, 27, 31, 1, 34, 1, 13, 23, 6, 26, 40, 15, 16, 29, 25, 24, 3, 5, 21, 18, 6, 8, 16, 29, 14, 15, 3, 36, 1, 1, 16, 27, 19, 0, 10, 26, 10, 19, 1, 6, 4, 37, 6, 26, 13, 16, 13, 31, 25, 27, 4, 3, 18, 37, 27, 40, 24, 21, 8, 16, 42, 1, 3, 22, 0, 15, 27, 27, 3, 15, 35, 12, 33, 6, 36, 5, 13, 31, 27, 1, 31, 26, 13, 27, 33, 16, 41, 7, 31, 26, 38, 22, 1, 4, 1, 43, 8, 16, 31, 3, 3, 28, 6, 3, 10, 3, 1, 25, 38, 27, 4, 1, 33, 1, 15, 16, 36, 13, 24, 5, 27, 24, 1, 22, 40, 3, 27, 28, 6, 14, 13, 25, 24, 12, 9, 16, 35, 0, 5, 27, 15, 1, 27, 6, 14, 26, 38, 42, 1, 44, 6, 10, 6, 13, 16, 1, 1, 1, 4, 35, 33, 16, 16, 42, 24, 18, 1, 27, 8, 8, 16, 13, 26, 13, 25, 3, 35, 44, 44, 22, 10, 1, 37, 3, 12, 16, 16, 6, 27, 1, 10, 33, 1, 4, 1, 8, 8, 27, 36, 25, 23, 3, 10, 3, 26, 8, 15, 38, 15, 19, 24, 16, 34, 13, 6, 44, 4, 44, 16, 27, 3, 33, 5, 13, 7, 37, 13, 3, 33, 13, 3, 27, 40, 13, 26, 31, 27, 18, 6, 37, 16, 46, 36, 21, 19, 1, 18, 29, 27, 35, 10, 35, 5, 21, 27, 6, 44, 6, 13, 31, 26, 16, 1, 26, 4, 14, 33, 27, 16, 3, 37, 4, 8, 1, 25, 29, 6, 12, 18, 16, 8, 13, 22, 19, 12, 18, 1, 1, 3, 15, 16, 15, 27, 46, 3, 27, 6, 22, 19, 14, 26, 2, 5, 27, 13, 35, 1, 10, 25, 10, 3, 1, 45, 6, 26, 15, 0, 8, 6, 22, 19, 27, 33, 8, 13, 3, 21, 23, 46, 35, 3, 16, 16, 33, 22, 44, 27, 31, 36, 29, 43, 25, 27, 16, 25, 3, 1, 3, 12, 13, 1, 1, 9, 42, 13, 46, 16, 6, 8, 5, 10, 16, 31, 4, 26, 3, 18, 13, 27, 27, 7, 26, 8, 16, 44, 25, 12, 27, 21, 1, 18, 13, 44, 1, 35, 14, 19, 21, 38, 15, 37, 6, 34, 6, 2, 3, 13, 31, 12, 6, 15, 10, 22, 29, 15, 40, 26, 13, 26, 12, 3, 6, 40, 22, 3, 25, 15, 3, 16, 26, 43, 1, 10, 19, 27, 13, 22, 14, 37, 1, 41, 27, 2, 6, 38, 35, 40, 44, 12, 1, 35, 14, 1, 8, 1, 10, 3, 4, 7, 12, 37, 16, 3, 6, 18, 27, 25, 26, 6, 43, 22, 29, 26, 6, 19, 21, 8, 15, 6, 27, 16, 35, 15, 14, 1, 23, 43, 6, 5, 27, 19, 34, 3, 10, 16, 8, 34, 1, 33, 26, 6, 22, 33, 1, 22, 44, 21, 27, 2, 13, 3, 0, 12, 25, 44, 13, 22, 3, 10, 38, 37, 12, 8, 34, 37, 26, 35, 1, 4, 12, 31, 26, 27, 6, 6, 1, 35, 5, 14, 37, 44, 15, 3, 6, 16, 15, 26, 1, 3, 27, 12, 3, 10, 22, 14, 13, 18, 1, 4, 23, 27, 29, 42, 6, 27, 1, 26, 40, 16, 3, 15, 8, 5, 35, 1, 31, 21, 42, 12, 26, 40, 5, 31, 13, 3, 16, 23, 6, 37, 13, 22, 1, 15, 24, 1, 33, 1, 3, 22, 19, 33, 6, 27, 10, 13, 13, 35, 44, 1, 13, 35, 23, 16, 1, 13, 21, 1, 35, 25, 16, 4, 3, 1, 26, 12, 15, 44, 14, 22, 8, 26, 4, 4, 10, 1, 18, 27, 10, 3, 19, 15, 1, 16, 15, 27, 35, 31, 26, 7, 5, 24, 42, 27, 12, 0, 33, 31, 36, 18, 27, 3, 15, 4, 3, 8, 29, 13, 16, 9, 28, 1, 31, 34, 21, 5, 16, 10, 27, 27, 29, 3, 44, 12, 26, 15, 1, 27, 3, 8, 26, 6, 16, 6, 33, 26, 46, 3, 24, 5, 19, 35, 15, 14, 38, 27, 10, 8, 18, 3, 14, 34, 1, 1, 27, 1, 8, 25, 35, 16, 12, 10, 44, 31, 26, 27, 26, 22, 21, 19, 3, 6, 16, 26, 27, 27, 13, 22, 16, 6, 15, 44, 27, 6, 15, 26, 3, 1, 13, 25, 44, 42, 44, 5, 3, 8, 40, 22, 27, 5, 3, 6, 26, 46, 14, 5, 19, 33, 1, 1, 1, 21, 27, 14, 16, 35, 9, 19, 3, 40, 6, 13, 22, 16, 6, 27, 10, 4, 18, 25, 24, 8, 36, 1, 44, 37, 15, 10, 16, 6, 14, 3, 1, 12, 1, 8, 22, 3, 27, 15, 26, 27, 16, 44, 16, 13, 1, 38, 27, 19, 24, 34, 8, 31, 27, 3, 6, 18, 26, 15, 45, 1, 23, 21, 33, 8, 13, 25, 16, 3, 16, 31, 12, 36, 26, 6, 26, 16, 22, 16, 22, 13, 22, 24, 27, 1, 6, 3, 27, 4, 19, 10, 3, 1, 33, 26, 19, 44, 6, 43, 1, 29, 5, 15, 10, 26, 3, 6, 41, 16, 13, 25, 2, 47, 3, 10, 27, 18, 1, 27, 33, 40, 31, 38, 15, 35, 21, 31, 16, 22, 43, 12, 14, 8, 6, 44, 21, 40, 1, 34, 3, 27, 27, 40, 21, 15, 3, 42, 25, 26, 6, 5, 0, 13, 15, 4, 27, 18, 25, 14, 16, 1, 5, 19, 37, 1, 3, 26, 25, 27, 26, 1, 26, 24, 13, 35, 42, 3, 6, 8, 29, 3, 6, 27, 21, 33, 33, 13, 12, 4, 10, 26, 10, 26, 22, 27, 29, 16, 1, 25, 17, 33, 4, 1, 19, 16, 26, 44, 16, 31, 13, 19, 12, 15, 13, 26, 1, 26, 46, 27, 31, 6, 8, 3, 13, 19, 33, 38, 44, 3, 3, 26, 10, 22, 42, 1, 12, 6, 18, 27, 4, 27, 37, 6, 21, 24, 1, 25, 10, 40, 26, 44, 3, 16, 16, 16, 12, 35, 1, 22, 13, 27, 25, 8, 27, 22, 3, 29, 26, 31, 34, 37, 6, 31, 19, 6, 16, 4, 31, 15, 16, 27, 16, 13, 34, 27, 6, 1, 13, 16, 6, 14, 15, 16, 27, 44, 34, 12, 13, 19, 6, 1, 25, 16, 13, 24, 27, 1, 34, 3, 31, 25, 26, 33, 26, 3, 4, 1, 18, 3, 3, 25, 17, 37, 1, 3, 23, 21, 44, 22, 13, 1, 6, 18, 29, 14, 8, 27, 34, 16, 6, 1, 19, 26, 8, 48, 35, 27, 8, 31, 27, 16, 8, 26, 1, 21, 25, 27, 33, 27, 22, 1, 44, 46, 28, 14, 3, 27, 26, 12, 19, 22, 6, 22, 27, 5, 10, 15, 16, 35, 13, 3, 37, 13, 10, 29, 22, 16, 13, 21, 3, 1, 44, 27, 8, 44, 19, 1, 4, 3, 27, 13, 22, 25, 1, 27, 19, 7, 8, 6, 44, 15, 26, 13, 1, 12, 27, 31, 44, 31, 6, 26, 7, 15, 12, 38, 26, 41, 6, 27, 3, 5, 35, 25, 34, 1, 6, 8, 12, 16, 8, 16, 36, 10, 4, 16, 26, 29, 22, 14, 18, 13, 10, 17, 16, 35, 19, 16, 1, 3, 10, 25, 38, 16, 25, 34, 6, 26, 27, 13, 3, 19, 27, 3, 27, 38, 2, 1, 4, 10, 3, 27, 16, 26, 31, 13, 25, 26, 16, 25, 46, 3, 37, 5, 12, 14, 21, 13, 33, 9, 14, 1, 12, 6, 1, 43, 44, 27, 3, 34, 16, 23, 6, 44, 8, 3, 25, 46, 43, 1, 22, 40, 1, 16, 27, 18, 15, 12, 1, 6, 26, 27, 6, 3, 14, 16, 16, 19, 3, 33, 38, 3, 44, 27, 10, 8, 35, 27, 27, 14, 6, 26, 1, 26, 13, 16, 1, 12, 16, 4, 13, 1, 26, 6, 16, 13, 38, 37, 3, 3, 25, 31, 35, 40, 43, 31, 8, 26, 15, 16, 4, 33, 24, 6, 16, 36, 27, 3, 3, 22, 21, 13, 18, 1, 10, 21, 10, 26, 1, 44, 13, 26, 3, 1, 27, 27, 3, 25, 10, 8, 29, 5, 1, 5, 27, 26, 6, 29, 35, 22, 13, 15, 20, 1, 16, 25, 15, 21, 12, 13, 24, 3, 34, 14, 27, 13, 3, 22, 4, 8, 14, 31, 12, 3, 25, 16, 8, 19, 6, 1, 2, 26, 22, 16, 16, 31, 24, 27, 27, 8, 3, 1, 27, 6, 34, 13, 13, 44, 6, 26, 18, 21, 3, 6, 34, 1, 13, 22, 26, 22, 19, 25, 16, 14, 1, 14, 1, 27, 21, 46, 16, 9, 16, 6, 31, 16, 3, 26, 44, 33, 29, 16, 5, 27, 26, 44, 3, 22, 31, 22, 28, 0, 28, 32, 10, 6, 16, 18, 40, 33, 10, 16, 16, 22, 27, 6, 12, 27, 35, 1, 26, 3, 14, 14, 23, 16, 44, 21, 42, 40, 38, 1, 44, 46, 15, 37, 31, 3, 13, 16, 6, 3, 15, 6, 35, 31, 12, 3, 3, 14, 1, 36, 19, 22, 21, 33, 3, 27, 6, 3, 1, 1, 12, 26, 27, 34, 27, 42, 6, 31, 27, 1, 40, 3, 4, 16, 15, 16, 25, 1, 33, 35, 5, 44, 26, 19, 40, 16, 36, 14, 3, 16, 4, 6, 10, 1, 6, 6, 15, 3, 27, 31, 24, 37, 16, 35, 26, 1, 29, 21, 44, 13, 15, 19, 1, 14, 1, 5, 49, 10, 8, 29, 31, 19, 29, 1, 8, 14, 0, 6, 1, 14, 37, 22, 13, 25, 16, 1, 3, 26, 6, 13, 27, 19, 6, 38, 16, 22, 27, 16, 35, 27, 10, 19, 1, 1, 6, 26, 3, 33, 15, 37, 16, 37, 25, 15, 47, 6, 31, 16, 5, 27, 13, 14, 31, 3, 24, 20, 6, 12, 26, 29, 26, 35, 29, 7, 14, 16, 16, 27, 14, 22, 15, 33, 17, 6, 25, 18, 1, 34, 44, 26, 16, 6, 35, 12, 1, 3, 37, 27, 10, 12, 13, 22, 20, 1, 15, 33, 29, 35, 25, 16, 1, 16, 15, 5, 12, 21, 27, 3, 33, 22, 24, 6, 8, 1, 3, 1, 15, 6, 6, 26, 27, 4, 43, 8, 21, 44, 15, 15, 24, 44, 34, 25, 13, 1, 7, 18, 27, 37, 4, 33, 3, 15, 1, 26, 3, 21, 3, 44, 44, 8, 46, 26, 12, 1, 23, 40, 6, 12, 35, 6, 22, 6, 21, 12, 26, 8, 35, 33, 27, 1, 33, 4, 31, 6, 16, 3, 1, 16, 1, 19, 1, 27, 2, 3, 24, 25, 4, 31, 14, 44, 46, 3, 1, 12, 13, 33, 3, 35, 35, 15, 36, 16, 25, 2, 1, 13, 44, 26, 6, 12, 34, 18, 6, 31, 34, 31, 27, 5, 21, 4, 1, 27, 34, 25, 27, 6, 26, 24, 3, 13, 27, 5, 14, 19, 23, 14, 35, 41, 16, 44, 4, 34, 14, 10, 3, 0, 1, 16, 12, 27, 1, 22, 41, 3, 18, 25, 14, 33, 6, 6, 27, 44, 25, 8, 13, 34, 22, 40, 45, 3, 44, 15, 1, 25, 3, 6, 19, 1, 3, 10, 16, 43, 37, 16, 23, 26, 26, 26, 27, 16, 3, 16, 21, 19, 34, 3, 14, 5, 6, 13, 33, 31, 12, 27, 1, 26, 31, 35, 27, 6, 22, 10, 1, 15, 12, 14, 37, 16, 15, 29, 12, 25, 14, 33, 26, 27, 16, 16, 8, 16, 1, 44, 13, 40, 31, 27, 22, 5, 41, 16, 33, 6, 25, 16, 6, 14, 3, 13, 1, 10, 3, 21, 16, 14, 21, 18, 12, 6, 26, 10, 44, 38, 1, 3, 27, 27, 1, 27, 6, 13, 21, 16, 37, 6, 41, 27, 29, 1, 25, 19, 15, 31, 16, 33, 27, 6, 26, 12, 6, 31, 25, 23, 26, 37, 3, 18, 15, 20, 19, 16, 3, 27, 31, 38, 4, 40, 26, 1, 19, 42, 13, 1, 18, 25, 30, 24, 3, 2, 0, 22, 6, 44, 13, 14, 21, 28, 19, 26, 3, 12, 16, 27, 6, 1, 16, 35, 5, 33, 44, 27, 1, 1, 42, 10, 4, 27, 4, 16, 10, 3, 40, 1, 6, 1, 6, 44, 16, 13, 3, 13, 26, 4, 16, 14, 6, 34, 16, 21, 44, 14, 5, 19, 27, 3, 35, 12, 26, 12, 24, 7, 1, 1, 19, 16, 1, 3, 1, 21, 25, 44, 13, 35, 19, 27, 9, 3, 12, 23, 8, 27, 45, 13, 26, 41, 16, 34, 6, 6, 13, 6, 40, 3, 1, 6, 27, 14, 27, 13, 12, 35, 16, 12, 16, 34, 13, 28, 13, 1, 38, 22, 26, 19, 25, 1, 21, 22, 26, 18, 33, 16, 26, 44, 10, 3, 30, 4, 13, 26, 2, 44, 16, 1, 27, 35, 6, 13, 31, 6, 19, 27, 38, 10, 3, 14, 16, 13, 3, 0, 26, 34, 12, 13, 27, 37, 27, 27, 16, 4, 22, 16, 3, 13, 14, 33, 27, 24, 37, 26, 14, 21, 27, 31, 14, 13, 13, 6, 47, 27, 3, 1, 38, 19, 6, 1, 20, 15, 15, 27, 16, 27, 33, 1, 1, 1, 24, 22, 35, 1, 18, 36, 34, 31, 16, 22, 26, 16, 6, 33, 27, 13, 13, 25, 12, 12, 25, 10, 24, 6, 1, 31, 3, 6, 3, 16, 34, 22, 33, 16, 19, 36, 29, 24, 13, 23, 41, 27, 27, 2, 14, 8, 33, 1, 27, 26, 1, 15, 5, 12, 1, 26, 25, 22, 31, 27, 4, 6, 8, 16, 16, 26, 22, 25, 6, 13, 1, 2, 44, 40, 26, 13, 19, 33, 4, 6, 3, 35, 12, 27, 18, 27, 21, 3, 14, 25, 35, 5, 26, 16, 27, 4, 1, 18, 6, 22, 9, 44, 35, 31, 34, 22, 26, 14, 14, 33, 32, 3, 5, 27, 12, 1, 3, 40, 46, 16, 42, 13, 24, 12, 3, 35, 44, 1, 16, 14, 18, 12, 13, 42, 6, 1, 35, 16, 3, 19, 31, 22, 1, 1, 26, 12, 6, 44, 3, 13, 33, 1, 46, 27, 3, 31, 13, 6, 1, 10, 27, 1, 16, 3, 27, 8, 34, 37, 44, 18, 46, 22, 27, 2, 5, 26, 4, 44, 1, 35, 19, 15, 21, 13, 15, 34, 12, 6, 1, 8, 13, 34, 21, 44, 27, 37, 5, 21, 20, 46, 22, 12, 15, 25, 38, 12, 0, 1, 23, 13, 22, 16, 24, 3, 33, 31, 16, 27, 14, 26, 27, 4, 6, 1, 22, 24, 0, 29, 26, 6, 3, 1, 3, 16, 3, 18, 14, 4, 16, 15, 10, 21, 3, 3, 35, 33, 13, 6, 26, 12, 22, 26, 6, 35, 18, 23, 13, 10, 44, 27, 33, 24, 44, 27, 1, 27, 3, 15, 3, 16, 37, 23, 6, 16, 19, 38, 13, 1, 27, 1, 16, 31, 25, 10, 18, 22, 21, 5, 27, 35, 40, 44, 19, 13, 16, 27, 25, 1, 3, 9, 27, 12, 25, 8, 1, 3, 6, 35, 44, 19, 14, 38, 12, 26, 29, 40, 27, 40, 1, 16, 3, 12, 10, 13, 27, 22, 6, 1, 22, 31, 25, 14, 26, 21, 1, 1, 44, 3, 46, 27, 27, 6, 13, 35, 8, 14, 1, 33, 16, 26, 27, 21, 34, 12, 3, 12, 1, 12, 14, 3, 13, 21, 13, 25, 15, 31, 8, 22, 16, 28, 1, 6, 18, 3, 13, 21, 44, 23, 19, 4, 13, 27, 14, 34, 6, 13, 6, 6, 25, 43, 1, 27, 3, 15, 8, 16, 27, 1, 10, 31, 1, 5, 16, 35, 9, 3, 3, 26, 1, 37, 21, 16, 4, 6, 13, 0, 40, 26, 22, 13, 3, 16, 27, 16, 31, 22, 35, 3, 22, 25, 10, 45, 6, 31, 24, 44, 27, 18, 14, 1, 1, 15, 3, 15, 22, 14, 18, 19, 27, 44, 25, 27, 16, 1, 19, 35, 34, 38, 6, 27, 2, 26, 31, 1, 3, 15, 13, 6, 36, 1, 4, 8, 21, 33, 14, 8, 24, 16, 15, 3, 10, 12, 8, 6, 1, 34, 22, 3, 25, 27, 6, 1, 29, 15, 16, 22, 31, 33, 6, 27, 19, 13, 26, 10, 18, 16, 15, 25, 35, 27, 26, 12, 37, 26, 16, 22, 33, 12, 15, 14, 35, 19, 41, 3, 16, 12, 35, 16, 18, 6, 14, 27, 6, 4, 13, 16, 27, 38, 22, 21, 21, 27, 6, 16, 46, 33, 31, 16, 14, 14, 1, 29, 47, 35, 27, 1, 15, 16, 20, 13, 44, 5, 27, 44, 3, 16, 19, 34, 25, 31, 13, 35, 2, 34, 3, 8, 13, 33, 22, 19, 25, 27, 44, 6, 16, 1, 27, 14, 24, 44, 6, 19, 27, 4, 14, 1, 27, 26, 21, 5, 18, 42, 31, 16, 37, 13, 13, 14, 15, 26, 33, 33, 24, 27, 23, 37, 12, 3, 40, 34, 6, 19, 25, 12, 3, 1, 35, 44, 44, 16, 14, 46, 10, 12, 27, 44, 31, 22, 1, 13, 8, 1, 31, 15, 22, 34, 14, 13, 27, 27, 1, 6, 29, 15, 31, 29, 16, 27, 13, 26, 6, 16, 3, 35, 24, 16, 8, 33, 4, 16, 13, 27, 27, 3, 22, 33, 22, 14, 16, 6, 1, 29, 21, 25, 31, 19, 10, 13, 34, 3, 27, 6, 37, 12, 3, 34, 35, 26, 44, 31, 1, 16, 44, 13, 30, 14, 1, 23, 16, 19, 8, 14, 35, 10, 6, 27, 26, 21, 34, 33, 44, 5, 20, 25, 6, 16, 13, 3, 37, 46, 26, 25, 20, 19, 6, 3, 6, 3, 12, 16, 15, 8, 13, 3, 6, 1, 1, 44, 5, 21, 26, 46, 10, 37, 4, 6, 22, 37, 27, 27, 12, 16, 1, 34, 33, 13, 12, 5, 5, 3, 31, 27, 8, 1, 36, 17, 1, 6, 33, 16, 0, 42, 16, 4, 25, 23, 26, 27, 6, 26, 16, 24, 33, 3, 26, 6, 16, 3, 33, 6, 22, 3, 16, 27, 34, 1, 36, 33, 14, 3, 37, 10, 8, 15, 16, 21, 13, 22, 5, 28, 4, 14, 15, 27, 31, 44, 13, 5, 26, 27, 19, 1, 16, 16, 12, 26, 6, 22, 27, 33, 43, 8, 31, 6, 3, 19, 44, 29, 37, 1, 26, 15, 36, 14, 14, 6, 21, 25, 27, 25, 34, 33, 26, 26, 19, 3, 14, 8, 1, 18, 13, 25, 1, 27, 6, 25, 6, 44, 31, 20, 16, 19, 1, 31, 10, 40, 36, 4, 1, 27, 26, 1, 25, 21, 22, 5, 14, 22, 13, 35, 24, 26, 46, 16, 12, 15, 4, 15, 3, 0, 38, 6, 10, 5, 1, 27, 24, 32, 1, 6, 16, 35, 2, 1, 27, 18, 6, 4, 27, 16, 26, 4, 6, 36, 33, 1, 3, 37, 1, 27, 31, 1, 44, 13, 37, 8, 16, 44, 21, 22, 13, 26, 3, 15, 18, 16, 1, 3, 19, 27, 27, 1, 3, 3, 22, 13, 24, 10, 40, 6, 6, 1, 44, 27, 22, 6, 15, 26, 1, 4, 14, 35, 25, 3, 33, 29, 12, 3, 16, 6, 6, 1, 27, 3, 1, 21, 35, 22, 26, 13, 33, 16, 33, 25, 44, 18, 23, 3, 31, 19, 5, 22, 26, 22, 40, 17, 21, 1, 3, 3, 1, 16, 19, 37, 8, 3, 25, 27, 40, 6, 14, 18, 14, 15, 22, 13, 40, 27, 6, 34, 1, 14, 13, 41, 4, 31, 1, 10, 15, 33, 12, 12, 44, 3, 1, 27, 31, 16, 26, 6, 27, 16, 44, 6, 1, 10, 29, 18, 1, 35, 19, 5, 26, 34, 3, 33, 14, 21, 12, 8, 25, 6, 1, 6, 23, 15, 33, 4, 16, 0, 27, 16, 22, 22, 27, 10, 33, 13, 34, 1, 1, 3, 12, 26, 10, 3, 44, 16, 3, 0, 27, 44, 49, 16, 13, 27, 16, 16, 10, 36, 24, 32, 1, 3, 13, 27, 28, 10, 27, 17, 18, 6, 40, 26, 44, 1, 1, 1, 4, 1, 23, 14, 26, 27, 6, 35, 29, 27, 15, 13, 18, 16, 3, 16, 40, 26, 8, 14, 38, 25, 6, 6, 26, 21, 2, 25, 27, 12, 27, 33, 12, 25, 21, 13, 15, 27, 1, 8, 6, 2, 16, 35, 22, 41, 24, 13, 13, 33, 43, 8, 40, 16, 1, 33, 26, 34, 15, 22, 12, 30, 3, 40, 31, 19, 44, 1, 13, 14, 26, 1, 5, 10, 12, 3, 0, 21, 6, 4, 33, 40, 1, 16, 22, 46, 1, 25, 35, 10, 1, 27, 26, 3, 12, 1, 15, 6, 21, 3, 16, 19, 10, 22, 12, 10, 27, 5, 44, 1, 26, 3, 1, 1, 36, 24, 4, 1, 25, 18, 5, 29, 16, 27, 22, 3, 16, 25, 36, 31, 6, 12, 14, 43, 13, 3, 13, 16, 16, 27, 31, 24, 8, 5, 35, 16, 33, 3, 36, 6, 16, 1, 44, 23, 1, 1, 6, 31, 16, 27, 6, 15, 1, 44, 37, 21, 35, 26, 6, 18, 3, 34, 15, 1, 44, 26, 16, 3, 33, 29, 4, 8, 31, 26, 1, 6, 6, 1, 22, 13, 3, 27, 3, 27, 44, 3, 35, 14, 8, 15, 8, 16, 5, 27, 38, 14, 23, 1, 33, 22, 26, 13, 33, 18, 19, 13, 3, 6, 44, 6, 44, 15, 37, 3, 13, 27, 8, 27, 25, 14, 25, 23, 35, 22, 3, 18, 16, 27, 3, 1, 44, 25, 1, 19, 34, 6, 42, 20, 27, 8, 8, 13, 15, 8, 28, 16, 1, 6, 3, 4, 12, 26, 3, 37, 31, 1, 27, 3, 3, 27, 14, 16, 0, 10, 44, 27, 5, 25, 41, 6, 22, 15, 8, 4, 26, 13, 1, 34, 49, 14, 27, 40, 1, 21, 4, 16, 3, 3, 27, 13, 10, 1, 13, 16, 25, 33, 21, 1, 27, 19, 1, 14, 6, 44, 42, 31, 8, 3, 27, 16, 35, 26, 14, 38, 16, 17, 25, 16, 19, 3, 1, 22, 18, 44, 6, 27, 6, 8, 34, 35, 1, 16, 14, 8, 26, 16, 35, 27, 1, 45, 26, 29, 6, 29, 37, 12, 27, 8, 3, 13, 16, 44, 12, 12, 13, 1, 24, 6, 26, 19, 4, 1, 16, 27, 26, 13, 13, 22, 6, 3, 6, 6, 21, 6, 1, 6, 27, 15, 3, 34, 7, 16, 33, 3, 6, 27, 15, 1, 4, 13, 9, 6, 3, 33, 27, 10, 36, 25, 46, 1, 22, 26, 41, 14, 10, 23, 16, 25, 46, 16, 31, 15, 18, 1, 3, 27, 5, 22, 28, 7, 19, 12, 27, 13, 14, 1, 13, 4, 31, 10, 23, 21, 5, 34, 6, 6, 26, 25, 1, 16, 35, 16, 38, 10, 3, 40, 24, 27, 8, 1, 15, 33, 16, 16, 21, 27, 21, 26, 3, 27, 9, 21, 13, 35, 33, 3, 16, 6, 1, 35, 25, 13, 13, 0, 12, 27, 36, 19, 14, 15, 27, 10, 5, 8, 4, 1, 26, 6, 1, 27, 12, 3, 5, 3, 27, 34, 26, 16, 31, 42, 9, 3, 16, 13, 44, 6, 22, 27, 13, 16, 27, 21, 8, 3, 13, 26, 37, 18, 35, 3, 46, 26, 40, 14, 35, 13, 0, 22, 6, 29, 4, 12, 18, 16, 27, 15, 1, 42, 25, 10, 1, 30, 44, 13, 43, 3, 38, 16, 3, 13, 18, 16, 14, 31, 27, 27, 22, 25, 26, 16, 3, 24, 19, 26, 31, 5, 23, 15, 15, 1, 9, 1, 30, 27, 16, 38, 1, 19, 13, 6, 6, 22, 40, 3, 18, 16, 44, 42, 25, 1, 1, 37, 26, 27, 15, 27, 3, 22, 24, 26, 14, 0, 18, 43, 35, 49, 17, 25, 15, 44, 21, 10, 1, 27, 27, 10, 27, 12, 22, 3, 26, 14, 35, 26, 3, 44, 31, 1, 6, 13, 29, 34, 31, 16, 16, 27, 1, 19, 34, 4, 33, 33, 10, 3, 16, 3, 16, 46, 13, 35, 13, 18, 1, 17, 31, 27, 21, 41, 27, 6, 40, 3, 37, 25, 24, 38, 22, 3, 27, 15, 16, 6, 44, 27, 27, 15, 16, 16, 18, 26, 22, 24, 1, 35, 14, 16, 37, 3, 26, 10, 34, 25, 25, 29, 31, 28, 19, 0, 17, 6, 3, 26, 13, 27, 1, 10, 35, 1, 12, 29, 34, 0, 6, 34, 27, 15, 25, 27, 23, 38, 10, 42, 35, 1, 31, 3, 44, 3, 22, 44, 16, 19, 26, 14, 15, 6, 25, 1, 12, 4, 27, 13, 5, 12, 27, 25, 4, 27, 16, 8, 8, 26, 34, 3, 13, 8, 43, 3, 24, 35, 1, 23, 6, 15, 31, 26, 15, 29, 31, 37, 8, 19, 0, 3, 26, 6, 40, 27, 4, 16, 27, 8, 13, 25, 34, 18, 36, 0, 1, 1, 37, 43, 40, 24, 3, 27, 1, 15, 6, 27, 22, 18, 16, 1, 25, 3, 44, 3, 34, 3, 6, 19, 36, 25, 37, 25, 22, 33, 3, 13, 26, 27, 44, 26, 18, 31, 13, 12, 1, 16, 13, 15, 27, 22, 34, 3, 16, 4, 33, 6, 27, 2, 27, 38, 3, 31, 3, 8, 1, 35, 43, 26, 14, 8, 26, 14, 15, 44, 16, 18, 6, 12, 16, 10, 43, 1, 8, 12, 44, 33, 26, 5, 17, 3, 27, 27, 13, 13, 4, 34, 1, 3, 15, 15, 2, 1, 23, 6, 25, 35, 27, 3, 1, 31, 26, 18, 3, 8, 35, 15, 19, 13, 0, 34, 14, 16, 22, 3, 6, 31, 44, 1, 1, 6, 8, 6, 24, 27, 3, 3, 19, 3, 16, 14, 1, 15, 0, 6, 15, 13, 6, 27, 16, 22, 19, 8, 16, 1, 16, 3, 3, 3, 14, 18, 27, 15, 16, 26, 1, 13, 34, 31, 36, 6, 8, 29, 27, 6, 8, 26, 3, 16, 1, 3, 0, 6, 19, 38, 5, 44, 3, 27, 16, 31, 25, 6, 1, 16, 34, 15, 26, 27, 24, 22, 16, 35, 12, 38, 29, 13, 38, 27, 27, 37, 8, 19, 3, 16, 22, 15, 26, 24, 13, 6, 31, 1, 17, 3, 3, 27, 16, 1, 12, 40, 43, 23, 34, 8, 12, 27, 32, 21, 14, 13, 14, 3, 3, 26, 13, 40, 36, 10, 25, 27, 37, 16, 1, 31, 12, 18, 12, 29, 27, 13, 19, 16, 44, 12, 10, 16, 1, 13, 27, 12, 4, 34, 27, 3, 1, 25, 3, 36, 37, 34, 21, 0, 20, 16, 35, 12, 1, 15, 16, 3, 7, 22, 6, 1, 35, 16, 26, 27, 4, 44, 3, 26, 16, 34, 35, 28, 40, 37, 18, 27, 27, 27, 21, 33, 6, 26, 4, 1, 14, 13, 1, 13, 1, 16, 13, 3, 3, 6, 29, 19, 3, 12, 1, 25, 23, 26, 16, 19, 3, 22, 1, 8, 3, 6, 13, 26, 40, 25, 13, 1, 16, 21, 27, 14, 27, 0, 16, 38, 35, 44, 3, 27, 35, 26, 35, 16, 23, 44, 6, 34, 44, 3, 8, 27, 8, 27, 26, 6, 4, 13, 9, 46, 14, 12, 24, 1, 15, 26, 12, 16, 33, 0, 44, 3, 18, 13, 16, 21, 38, 34, 31, 16, 35, 13, 1, 1, 8, 4, 42, 15, 3, 1, 19, 25, 6, 10, 40, 18, 26, 22, 5, 36, 1, 6, 26, 3, 27, 21, 16, 26, 44, 3, 13, 25, 24, 18, 6, 16, 33, 44, 18, 6, 1, 8, 44, 1, 31, 35, 35, 27, 13, 13, 27, 15, 16, 10, 25, 12, 21, 1, 6, 26, 8, 26, 27, 13, 10, 6, 13, 3, 1, 1, 33, 35, 22, 18, 1, 16, 27, 27, 27, 16, 22, 24, 29, 26, 23, 16, 1, 2, 41, 6, 40, 44, 18, 33, 6, 4, 14, 16, 20, 26, 27, 1, 26, 25, 0, 27, 22, 12, 27, 15, 12, 27, 2, 34, 15, 40, 44, 3, 13, 6, 16, 1, 19, 35, 27, 3, 40, 13, 1, 16, 16, 18, 23, 29, 8, 44, 1, 1, 26, 16, 4, 31, 1, 40, 44, 10, 15, 13, 19, 6, 21, 14, 34, 22, 37, 15, 27, 25, 10, 1, 3, 27, 3, 14, 37, 3, 8, 27, 26, 43, 15, 18, 38, 13, 27, 35, 34, 44, 26, 3, 6, 6, 1, 16, 4, 6, 1, 1, 6, 29, 1, 15, 15, 16, 44, 3, 1, 27, 6, 40, 13, 33, 16, 4, 27, 14, 13, 1, 26, 34, 4, 31, 10, 3, 3, 21, 18, 35, 22, 27, 1, 1, 1, 44, 22, 1, 22, 12, 4, 31, 14, 27, 16, 26, 10, 27, 24, 6, 3, 27, 16, 6, 1, 1, 26, 13, 18, 33, 26, 34, 16, 44, 5, 27, 44, 15, 8, 13, 15, 27, 19, 6, 13, 31, 10, 12, 16, 32, 44, 31, 36, 40, 26, 14, 33, 13, 23, 3, 18, 4, 35, 25, 6, 22, 27, 16, 16, 27, 3, 3, 35, 34, 27, 21, 10, 27, 1, 34, 22, 25, 13, 14, 16, 3, 1, 18, 23, 8, 6, 5, 44, 15, 25, 6, 10, 4, 12, 26, 25, 35, 4, 13, 3, 31, 23, 16, 1, 8, 23, 14, 18, 14, 27, 5, 26, 18, 27, 6, 10, 40, 1, 1, 26, 13, 27, 34, 6, 19, 27, 0, 14, 4, 19, 31, 16, 6, 8, 42, 31, 27, 21, 27, 46, 1, 36, 1, 26, 1, 3, 24, 37, 13, 44, 36, 16, 18, 1, 16, 34, 37, 26, 19, 14, 21, 6, 43, 10, 3, 1, 16, 24, 34, 13, 3, 6, 40, 26, 1, 3, 27, 3, 1, 8, 25, 14, 16, 22, 8, 27, 2, 16, 13, 25, 13, 23, 33, 6, 16, 19, 25, 21, 16, 14, 26, 34, 1, 3, 27, 37, 15, 23, 1, 26, 27, 12, 44, 35, 3, 3, 19, 31, 10, 16, 6, 44, 16, 16, 10, 43, 44, 18, 23, 3, 35, 18, 1, 27, 31, 15, 24, 21, 29, 6, 4, 38, 34, 27, 26, 26, 13, 43, 27, 31, 6, 3, 27, 46, 27, 1, 28, 6, 6, 19, 15, 4, 43, 33, 10, 1, 5, 13, 18, 29, 36, 12, 43, 33, 15, 1, 3, 16, 26, 12, 44, 31, 26, 34, 13, 6, 1, 1, 10, 22, 13, 3, 1, 27, 27, 37, 41, 12, 16, 12, 1, 3, 21, 26, 14, 33, 25, 34, 18, 4, 40, 3, 37, 34, 37, 3, 6, 3, 37, 6, 16, 26, 17, 13, 1, 18, 3, 27, 3, 24, 10, 35, 15, 8, 24, 25, 12, 40, 10, 44, 31, 27, 6, 34, 13, 1, 22, 16, 26, 27, 16, 12, 22, 1, 6, 31, 27, 27, 1, 27, 3, 4, 16, 13, 15, 34, 14, 21, 6, 14, 44, 33, 27, 42, 27, 8, 26, 6, 37, 24, 3, 15, 10, 15, 10, 1, 14, 31, 26, 23, 16, 25, 3, 16, 3, 16, 6, 16, 35, 26, 35, 1, 27, 5, 33, 13, 13, 40, 6, 1, 3, 25, 3, 3, 25, 5, 15, 14, 31, 12, 33, 27, 1, 44, 38, 13, 33, 0, 3, 26, 1, 27, 24, 13, 22, 44, 4, 16, 49, 2, 19, 18, 6, 27, 16, 28, 38, 15, 25, 22, 10, 26, 13, 3, 3, 3, 8, 44, 1, 27, 27, 3, 22, 16, 26, 1, 38, 27, 24, 37, 19, 22, 6, 34, 18, 1, 5, 26, 5, 38, 6, 15, 35, 10, 33, 27, 44, 6, 19, 12, 1, 24, 18, 16, 16, 22, 21, 34, 25, 14, 13, 16, 14, 21, 3, 1, 16, 23, 26, 3, 4, 12, 40, 22, 34, 12, 33, 26, 29, 6, 22, 31, 21, 3, 46, 6, 16, 3, 26, 14, 3, 27, 16, 13, 35, 33, 1, 1, 1, 15, 15, 6, 16, 16, 37, 1, 2, 26, 18, 27, 44, 12, 1, 27, 10, 22, 35, 22, 3, 34, 34, 8, 31, 19, 16, 13, 1, 1, 13, 33, 33, 5, 26, 13, 3, 6, 37, 15, 6, 27, 33, 1, 26, 16, 14, 1, 16, 14, 31, 3, 12, 27, 15, 34, 18, 8, 35, 23, 1, 44, 31, 33, 0, 23, 27, 13, 3, 6, 25, 3, 35, 14, 31, 6, 16, 13, 1, 3, 33, 27, 8, 16, 21, 26, 0, 27, 4, 12, 18, 33, 40, 35, 44, 25, 1, 33, 1, 25, 6, 26, 16, 13, 15, 22, 1, 44, 24, 12, 13, 1, 31, 19, 10, 27, 29, 33, 38, 3, 35, 21, 40, 25, 34, 8, 4, 26, 44, 16, 37, 18, 22, 13, 1, 25, 38, 22, 4, 31, 13, 31, 26, 3, 3, 6, 5, 10, 12, 34, 25, 3, 27, 26, 14, 1, 1, 16, 44, 6, 6, 18, 29, 22, 2, 15, 6, 34, 34, 12, 19, 27, 34, 15, 21, 3, 10, 42, 3, 1, 31, 16, 26, 16, 27, 26, 12, 4, 6, 3, 19, 1, 35, 26, 8, 29, 18, 16, 16, 33, 14, 13, 3, 34, 5, 25, 27, 35, 27, 35, 21, 1, 12, 38, 14, 18, 22, 16, 19, 15, 3, 34, 13, 13, 1]\n"
     ]
    }
   ],
   "source": [
    "print(model_preds)"
   ]
  },
  {
   "cell_type": "code",
   "execution_count": 80,
   "id": "bc8ee299",
   "metadata": {},
   "outputs": [
    {
     "data": {
      "text/plain": [
       "{0: 'Diego Velazquez',\n",
       " 1: 'Vincent van Gogh',\n",
       " 2: 'Claude Monet',\n",
       " 3: 'Edgar Degas',\n",
       " 4: 'Hieronymus Bosch',\n",
       " 5: 'Pierre-Auguste Renoir',\n",
       " 6: 'Rene Magritte',\n",
       " 7: 'Michelangelo',\n",
       " 8: 'Peter Paul Rubens',\n",
       " 9: 'Caravaggio',\n",
       " 10: 'Alfred Sisley',\n",
       " 11: 'Edouard Manet',\n",
       " 12: 'Rembrandt',\n",
       " 13: 'Francisco Goya',\n",
       " 14: 'Pablo Picasso',\n",
       " 15: 'Titian',\n",
       " 16: 'Mikhail Vrubel',\n",
       " 17: 'Leonardo da Vinci',\n",
       " 18: 'Kazimir Malevich',\n",
       " 19: 'Andy Warhol',\n",
       " 20: 'Vasiliy Kandinskiy',\n",
       " 21: 'Gustav Klimt',\n",
       " 22: 'Amedeo Modigliani',\n",
       " 23: 'Henri Rousseau',\n",
       " 24: 'Salvador Dali',\n",
       " 25: 'Pieter Bruegel',\n",
       " 26: 'Albrecht Du rer',\n",
       " 27: 'Paul Gauguin',\n",
       " 28: 'Sandro Botticelli',\n",
       " 29: 'Piet Mondrian',\n",
       " 30: 'Eugene Delacroix',\n",
       " 31: 'Paul Klee',\n",
       " 32: 'William Turner',\n",
       " 33: 'Marc Chagall',\n",
       " 34: 'Jan van Eyck',\n",
       " 35: 'Henri Matisse',\n",
       " 36: 'El Greco',\n",
       " 37: 'Gustave Courbet',\n",
       " 38: 'Andrei Rublev',\n",
       " 39: 'Jackson Pollock',\n",
       " 40: 'Edvard Munch',\n",
       " 41: 'Camille Pissarro',\n",
       " 42: 'Raphael',\n",
       " 43: 'Henri de Toulouse-Lautrec',\n",
       " 44: 'Joan Miro',\n",
       " 45: 'Giotto di Bondone',\n",
       " 46: 'Diego Rivera',\n",
       " 47: 'Frida Kahlo',\n",
       " 48: 'Georges Seurat',\n",
       " 49: 'Paul Cezanne'}"
      ]
     },
     "execution_count": 80,
     "metadata": {},
     "output_type": "execute_result"
    }
   ],
   "source": [
    "label_dict_decode"
   ]
  },
  {
   "cell_type": "code",
   "execution_count": null,
   "id": "61370ef4",
   "metadata": {},
   "outputs": [],
   "source": []
  }
 ],
 "metadata": {
  "kernelspec": {
   "display_name": "Python 3 (ipykernel)",
   "language": "python",
   "name": "python3"
  },
  "language_info": {
   "codemirror_mode": {
    "name": "ipython",
    "version": 3
   },
   "file_extension": ".py",
   "mimetype": "text/x-python",
   "name": "python",
   "nbconvert_exporter": "python",
   "pygments_lexer": "ipython3",
   "version": "3.8.13"
  }
 },
 "nbformat": 4,
 "nbformat_minor": 5
}
