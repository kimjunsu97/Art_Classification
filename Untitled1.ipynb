{
 "cells": [
  {
   "cell_type": "code",
   "execution_count": 2,
   "id": "e218268f",
   "metadata": {},
   "outputs": [
    {
     "name": "stdout",
     "output_type": "stream",
     "text": [
      "Requirement already satisfied: wandb in c:\\users\\kimju\\anaconda3\\envs\\dacon\\lib\\site-packages (0.13.4)\n",
      "Requirement already satisfied: Click!=8.0.0,>=7.0 in c:\\users\\kimju\\anaconda3\\envs\\dacon\\lib\\site-packages (from wandb) (8.0.4)\n",
      "Requirement already satisfied: GitPython>=1.0.0 in c:\\users\\kimju\\anaconda3\\envs\\dacon\\lib\\site-packages (from wandb) (3.1.29)\n",
      "Requirement already satisfied: PyYAML in c:\\users\\kimju\\anaconda3\\envs\\dacon\\lib\\site-packages (from wandb) (6.0)\n",
      "Requirement already satisfied: setuptools in c:\\users\\kimju\\appdata\\roaming\\python\\python38\\site-packages (from wandb) (65.3.0)\n",
      "Requirement already satisfied: psutil>=5.0.0 in c:\\users\\kimju\\appdata\\roaming\\python\\python38\\site-packages (from wandb) (5.9.1)\n",
      "Requirement already satisfied: requests<3,>=2.0.0 in c:\\users\\kimju\\anaconda3\\envs\\dacon\\lib\\site-packages (from wandb) (2.27.1)\n",
      "Requirement already satisfied: sentry-sdk>=1.0.0 in c:\\users\\kimju\\anaconda3\\envs\\dacon\\lib\\site-packages (from wandb) (1.10.0)\n",
      "Requirement already satisfied: protobuf!=4.0.*,!=4.21.0,<5,>=3.12.0 in c:\\users\\kimju\\anaconda3\\envs\\dacon\\lib\\site-packages (from wandb) (3.19.1)\n",
      "Requirement already satisfied: six>=1.13.0 in c:\\users\\kimju\\appdata\\roaming\\python\\python38\\site-packages (from wandb) (1.16.0)\n",
      "Requirement already satisfied: shortuuid>=0.5.0 in c:\\users\\kimju\\anaconda3\\envs\\dacon\\lib\\site-packages (from wandb) (1.0.9)\n",
      "Requirement already satisfied: setproctitle in c:\\users\\kimju\\anaconda3\\envs\\dacon\\lib\\site-packages (from wandb) (1.3.2)\n",
      "Requirement already satisfied: promise<3,>=2.0 in c:\\users\\kimju\\anaconda3\\envs\\dacon\\lib\\site-packages (from wandb) (2.3)\n",
      "Requirement already satisfied: pathtools in c:\\users\\kimju\\anaconda3\\envs\\dacon\\lib\\site-packages (from wandb) (0.1.2)\n",
      "Requirement already satisfied: docker-pycreds>=0.4.0 in c:\\users\\kimju\\anaconda3\\envs\\dacon\\lib\\site-packages (from wandb) (0.4.0)\n",
      "Requirement already satisfied: colorama in c:\\users\\kimju\\appdata\\roaming\\python\\python38\\site-packages (from Click!=8.0.0,>=7.0->wandb) (0.4.5)\n",
      "Requirement already satisfied: gitdb<5,>=4.0.1 in c:\\users\\kimju\\anaconda3\\envs\\dacon\\lib\\site-packages (from GitPython>=1.0.0->wandb) (4.0.9)\n",
      "Requirement already satisfied: smmap<6,>=3.0.1 in c:\\users\\kimju\\anaconda3\\envs\\dacon\\lib\\site-packages (from gitdb<5,>=4.0.1->GitPython>=1.0.0->wandb) (5.0.0)\n",
      "Requirement already satisfied: charset-normalizer~=2.0.0 in c:\\users\\kimju\\anaconda3\\envs\\dacon\\lib\\site-packages (from requests<3,>=2.0.0->wandb) (2.0.4)\n",
      "Requirement already satisfied: certifi>=2017.4.17 in c:\\users\\kimju\\anaconda3\\envs\\dacon\\lib\\site-packages (from requests<3,>=2.0.0->wandb) (2021.10.8)\n",
      "Requirement already satisfied: urllib3<1.27,>=1.21.1 in c:\\users\\kimju\\anaconda3\\envs\\dacon\\lib\\site-packages (from requests<3,>=2.0.0->wandb) (1.26.12)\n",
      "Requirement already satisfied: idna<4,>=2.5 in c:\\users\\kimju\\anaconda3\\envs\\dacon\\lib\\site-packages (from requests<3,>=2.0.0->wandb) (3.3)\n"
     ]
    }
   ],
   "source": [
    "!pip3 install wandb"
   ]
  },
  {
   "cell_type": "code",
   "execution_count": null,
   "id": "9aeec744",
   "metadata": {},
   "outputs": [],
   "source": []
  }
 ],
 "metadata": {
  "kernelspec": {
   "display_name": "Python 3 (ipykernel)",
   "language": "python",
   "name": "python3"
  },
  "language_info": {
   "codemirror_mode": {
    "name": "ipython",
    "version": 3
   },
   "file_extension": ".py",
   "mimetype": "text/x-python",
   "name": "python",
   "nbconvert_exporter": "python",
   "pygments_lexer": "ipython3",
   "version": "3.8.13"
  }
 },
 "nbformat": 4,
 "nbformat_minor": 5
}
