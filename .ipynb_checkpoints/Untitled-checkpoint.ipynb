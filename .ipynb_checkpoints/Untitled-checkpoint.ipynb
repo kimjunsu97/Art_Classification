{
 "cells": [
  {
   "cell_type": "markdown",
   "id": "755db786",
   "metadata": {},
   "source": [
    "0. 경로 설정"
   ]
  },
  {
   "cell_type": "code",
   "execution_count": 25,
   "id": "e7bdca08",
   "metadata": {},
   "outputs": [],
   "source": [
    "import os\n",
    "\n",
    "os.getcwd()\n",
    "base_dir = 'D:/Dacon_Art_Classification/Art_Classification'\n",
    "data_dir = \"D:/Dacon_Art_Classification/data\""
   ]
  },
  {
   "cell_type": "markdown",
   "id": "b4377adf",
   "metadata": {},
   "source": [
    "1. Dataset 만들기"
   ]
  },
  {
   "cell_type": "code",
   "execution_count": 28,
   "id": "ac8f9790",
   "metadata": {
    "scrolled": true
   },
   "outputs": [
    {
     "name": "stdout",
     "output_type": "stream",
     "text": [
      "{'Diego Velazquez': 0, 'Vincent van Gogh': 1, 'Claude Monet': 2, 'Edgar Degas': 3, 'Hieronymus Bosch': 4, 'Pierre-Auguste Renoir': 5, 'Rene Magritte': 6, 'Michelangelo': 7, 'Peter Paul Rubens': 8, 'Caravaggio': 9, 'Alfred Sisley': 10, 'Edouard Manet': 11, 'Rembrandt': 12, 'Francisco Goya': 13, 'Pablo Picasso': 14, 'Titian': 15, 'Mikhail Vrubel': 16, 'Leonardo da Vinci': 17, 'Kazimir Malevich': 18, 'Andy Warhol': 19, 'Vasiliy Kandinskiy': 20, 'Gustav Klimt': 21, 'Amedeo Modigliani': 22, 'Henri Rousseau': 23, 'Salvador Dali': 24, 'Pieter Bruegel': 25, 'Albrecht Du rer': 26, 'Paul Gauguin': 27, 'Sandro Botticelli': 28, 'Piet Mondrian': 29, 'Eugene Delacroix': 30, 'Paul Klee': 31, 'William Turner': 32, 'Marc Chagall': 33, 'Jan van Eyck': 34, 'Henri Matisse': 35, 'El Greco': 36, 'Gustave Courbet': 37, 'Andrei Rublev': 38, 'Jackson Pollock': 39, 'Edvard Munch': 40, 'Camille Pissarro': 41, 'Raphael': 42, 'Henri de Toulouse-Lautrec': 43, 'Joan Miro': 44, 'Giotto di Bondone': 45, 'Diego Rivera': 46, 'Frida Kahlo': 47, 'Georges Seurat': 48, 'Paul Cezanne': 49}\n"
     ]
    }
   ],
   "source": [
    "import torch\n",
    "from torch.utils.data import DataLoader, Dataset\n",
    "from torchvision import transforms\n",
    "import pandas as pd\n",
    "import cv2\n",
    "\n",
    "class CustomDataset(Dataset):\n",
    "    \n",
    "    def __init__(self, state,img_dir, label:pd.DataFrame=None, transform=None, target_transform=None):\n",
    "        self.state = state\n",
    "        self.label = label\n",
    "        self.img_dir = img_dir\n",
    "        self.transform = transform\n",
    "        self.target_transform = target_transform\n",
    "    def __len__(self):\n",
    "        return len(self.label)\n",
    "    def __getitem__(self, idx):\n",
    "        # linux일때 '/' 바꿔서 돌리기\n",
    "        if self.state =='train':\n",
    "            img_path = os.path.join(self.img_dir,\"train\",self.label['img_path'][idx].split('/')[-1])\n",
    "            img_label = self.label['artist'][idx]\n",
    "            img = cv2.imread(img_path)\n",
    "            if self.transform:\n",
    "                img = self.transform(img)\n",
    "            if self.target_transform:\n",
    "                label = self.target_transform(label)\n",
    "            return img,img_label\n",
    "        else:\n",
    "            img_path = os.path.join(self.img_dir,\"test\",self.label['img_path'][idx].split('/')[-1])\n",
    "            img = cv2.imread(img_path)\n",
    "            if self.transform:\n",
    "                img = self.transform(img)\n",
    "            return img\n",
    "train_label = pd.read_csv(f'{data_dir}/train.csv')\n",
    "test_label = pd.read_csv(f'{data_dir}/test.csv')\n",
    "\n",
    "label_dict = dict(zip(train_label['artist'].unique(),range(50)))\n",
    "print(label_dict)\n",
    "\n",
    "train_label['artist'] = [label_dict[i] for i in train_label['artist']]\n",
    "\n",
    "train_transform = transforms.Compose([\n",
    "    transforms.ToPILImage(),\n",
    "    transforms.Resize((300, 300)), \n",
    "    transforms.RandomCrop(224),\n",
    "    transforms.RandomHorizontalFlip(),\n",
    "    transforms.RandomVerticalFlip(),\n",
    "    transforms.ToTensor(),\n",
    "])\n",
    "\n",
    "test_transform = transforms.Compose([\n",
    "    transforms.ToPILImage(),\n",
    "    transforms.Resize((300, 300)), \n",
    "    transforms.ToTensor(),\n",
    "])\n",
    "\n",
    "#PIL 파일로 바꿔주기\n",
    "#colorJitter은 고민해보기 transforms.ColorJitter(brightness=0.2, contrast=0.2, saturation=0.2, hue=0.2),\n",
    "training_data = CustomDataset('train',data_dir,train_label,train_transform)\n",
    "train_dataloader = DataLoader(training_data, batch_size=16, shuffle=True)\n",
    "\n",
    "test_data = CustomDataset('test',data_dir,test_label,test_transform)\n",
    "test_dataloader = DataLoader(test_data, batch_size=16, shuffle=True)\n",
    "        "
   ]
  },
  {
   "cell_type": "markdown",
   "id": "44137b35",
   "metadata": {},
   "source": [
    "2. 모델 만들기"
   ]
  },
  {
   "cell_type": "code",
   "execution_count": 29,
   "id": "01d71385",
   "metadata": {},
   "outputs": [],
   "source": [
    "from torchvision.models import resnet50, ResNet50_Weights\n",
    "\n",
    "model = resnet50(weights=ResNet50_Weights.IMAGENET1K_V2)\n",
    "#이거 쓰는 법도 공부해보기"
   ]
  },
  {
   "cell_type": "code",
   "execution_count": 30,
   "id": "5921ebff",
   "metadata": {},
   "outputs": [],
   "source": [
    "from torch import nn\n",
    "class BasicBlock(nn.Module):\n",
    "    expansion = 1\n",
    "    def __init__(self, in_channels, out_channels, stride=1):\n",
    "        super().__init__()\n",
    "\n",
    "        # BatchNorm에 bias가 포함되어 있으므로, conv2d는 bias=False로 설정합니다.\n",
    "        self.residual_function = nn.Sequential(\n",
    "            nn.Conv2d(in_channels, out_channels, kernel_size=3, stride=stride, padding=1, bias=False),\n",
    "            nn.BatchNorm2d(out_channels),\n",
    "            nn.ReLU(),\n",
    "            nn.Conv2d(out_channels, out_channels * BasicBlock.expansion, kernel_size=3, stride=1, padding=1, bias=False),\n",
    "            nn.BatchNorm2d(out_channels * BasicBlock.expansion),\n",
    "        )\n",
    "\n",
    "        # identity mapping, input과 output의 feature map size, filter 수가 동일한 경우 사용.\n",
    "        self.shortcut = nn.Sequential()\n",
    "\n",
    "        self.relu = nn.ReLU()\n",
    "\n",
    "        # projection mapping using 1x1conv\n",
    "        if stride != 1 or in_channels != BasicBlock.expansion * out_channels:\n",
    "            self.shortcut = nn.Sequential(\n",
    "                nn.Conv2d(in_channels, out_channels * BasicBlock.expansion, kernel_size=1, stride=stride, bias=False),\n",
    "                nn.BatchNorm2d(out_channels * BasicBlock.expansion)\n",
    "            )\n",
    "\n",
    "    def forward(self, x):\n",
    "        x = self.residual_function(x) + self.shortcut(x)\n",
    "        x = self.relu(x)\n",
    "        return x\n",
    "\n",
    "\n",
    "class BottleNeck(nn.Module):\n",
    "    expansion = 4\n",
    "    def __init__(self, in_channels, out_channels, stride=1):\n",
    "        super().__init__()\n",
    "\n",
    "        self.residual_function = nn.Sequential(\n",
    "            nn.Conv2d(in_channels, out_channels, kernel_size=1, stride=1, bias=False),\n",
    "            nn.BatchNorm2d(out_channels),\n",
    "            nn.ReLU(),\n",
    "            nn.Conv2d(out_channels, out_channels, kernel_size=3, stride=stride, padding=1, bias=False),\n",
    "            nn.BatchNorm2d(out_channels),\n",
    "            nn.ReLU(),\n",
    "            nn.Conv2d(out_channels, out_channels * BottleNeck.expansion, kernel_size=1, stride=1, bias=False),\n",
    "            nn.BatchNorm2d(out_channels * BottleNeck.expansion),\n",
    "        )\n",
    "\n",
    "        self.shortcut = nn.Sequential()\n",
    "\n",
    "        self.relu = nn.ReLU()\n",
    "\n",
    "        if stride != 1 or in_channels != out_channels * BottleNeck.expansion:\n",
    "            self.shortcut = nn.Sequential(\n",
    "                nn.Conv2d(in_channels, out_channels*BottleNeck.expansion, kernel_size=1, stride=stride, bias=False),\n",
    "                nn.BatchNorm2d(out_channels*BottleNeck.expansion)\n",
    "            )\n",
    "            \n",
    "    def forward(self, x):\n",
    "        x = self.residual_function(x) + self.shortcut(x)\n",
    "        x = self.relu(x)\n",
    "        return x\n",
    "    \n",
    "class ResNet(nn.Module):\n",
    "    def __init__(self, block, num_block, num_classes=10, init_weights=True):\n",
    "        super().__init__()\n",
    "\n",
    "        self.in_channels=64\n",
    "\n",
    "        self.conv1 = nn.Sequential(\n",
    "            nn.Conv2d(3, 64, kernel_size=7, stride=2, padding=3, bias=False),\n",
    "            nn.BatchNorm2d(64),\n",
    "            nn.ReLU(),\n",
    "            nn.MaxPool2d(kernel_size=3, stride=2, padding=1)\n",
    "        )\n",
    "\n",
    "        self.conv2_x = self._make_layer(block, 64, num_block[0], 1)\n",
    "        self.conv3_x = self._make_layer(block, 128, num_block[1], 2)\n",
    "        self.conv4_x = self._make_layer(block, 256, num_block[2], 2)\n",
    "        self.conv5_x = self._make_layer(block, 512, num_block[3], 2)\n",
    "\n",
    "        self.avg_pool = nn.AdaptiveAvgPool2d((1,1))\n",
    "        self.fc1 = nn.Linear(512 * block.expansion, num_classes)\n",
    "        self.fc2 = nn.Linear(512 * block.expansion, num_classes)\n",
    "\n",
    "        # weights inittialization\n",
    "        if init_weights:\n",
    "            self._initialize_weights()\n",
    "\n",
    "    def _make_layer(self, block, out_channels, num_blocks, stride):\n",
    "        strides = [stride] + [1] * (num_blocks - 1)\n",
    "        layers = []\n",
    "        for stride in strides:\n",
    "            layers.append(block(self.in_channels, out_channels, stride))\n",
    "            self.in_channels = out_channels * block.expansion\n",
    "\n",
    "        return nn.Sequential(*layers)\n",
    "\n",
    "    def forward(self,x):\n",
    "        output = self.conv1(x)\n",
    "        output = self.conv2_x(output)\n",
    "        x = self.conv3_x(output)\n",
    "        x = self.conv4_x(x)\n",
    "        x = self.conv5_x(x)\n",
    "        x = self.avg_pool(x)\n",
    "        x = x.view(x.size(0), -1)\n",
    "        x = self.fc1(x)\n",
    "        x = torch.nn.functional.softmax(x,dim=0)\n",
    "        return x\n",
    "\n",
    "    # define weight initialization function\n",
    "    def _initialize_weights(self):\n",
    "        for m in self.modules():\n",
    "            if isinstance(m, nn.Conv2d):\n",
    "                nn.init.kaiming_normal_(m.weight, mode='fan_out', nonlinearity='relu')\n",
    "                if m.bias is not None:\n",
    "                    nn.init.constant_(m.bias, 0)\n",
    "            elif isinstance(m, nn.BatchNorm2d):\n",
    "                nn.init.constant_(m.weight, 1)\n",
    "                nn.init.constant_(m.bias, 0)\n",
    "            elif isinstance(m, nn.Linear):\n",
    "                nn.init.normal_(m.weight, 0, 0.01)\n",
    "                nn.init.constant_(m.bias, 0)\n",
    "\n",
    "def resnet18():\n",
    "    return ResNet(BasicBlock, [2,2,2,2])\n",
    "\n",
    "def resnet34():\n",
    "    return ResNet(BasicBlock, [3, 4, 6, 3])\n",
    "\n",
    "def resnet50():\n",
    "    return ResNet(BottleNeck, [3,4,6,3],50)\n",
    "\n",
    "def resnet101():\n",
    "    return ResNet(BottleNeck, [3, 4, 23, 3])\n",
    "\n",
    "def resnet152():\n",
    "    return ResNet(BottleNeck, [3, 8, 36, 3])"
   ]
  },
  {
   "cell_type": "code",
   "execution_count": 31,
   "id": "ede4658f",
   "metadata": {},
   "outputs": [
    {
     "name": "stdout",
     "output_type": "stream",
     "text": [
      "torch.Size([3, 50])\n"
     ]
    }
   ],
   "source": [
    "device = torch.device('cuda' if torch.cuda.is_available() else 'cpu')\n",
    "model = resnet50().to(device)\n",
    "x = torch.randn(3, 3, 224, 224).to(device)\n",
    "output = model(x)\n",
    "print(output.size())"
   ]
  },
  {
   "cell_type": "code",
   "execution_count": 32,
   "id": "21cfa32d",
   "metadata": {},
   "outputs": [
    {
     "name": "stdout",
     "output_type": "stream",
     "text": [
      "Requirement already satisfied: torchsummary in c:\\users\\kimju\\anaconda3\\envs\\dacon\\lib\\site-packages (1.5.1)\n"
     ]
    }
   ],
   "source": [
    "!pip install torchsummary"
   ]
  },
  {
   "cell_type": "code",
   "execution_count": 33,
   "id": "8fa84828",
   "metadata": {
    "scrolled": true
   },
   "outputs": [
    {
     "name": "stdout",
     "output_type": "stream",
     "text": [
      "----------------------------------------------------------------\n",
      "        Layer (type)               Output Shape         Param #\n",
      "================================================================\n",
      "            Conv2d-1         [-1, 64, 112, 112]           9,408\n",
      "       BatchNorm2d-2         [-1, 64, 112, 112]             128\n",
      "              ReLU-3         [-1, 64, 112, 112]               0\n",
      "         MaxPool2d-4           [-1, 64, 56, 56]               0\n",
      "            Conv2d-5           [-1, 64, 56, 56]           4,096\n",
      "       BatchNorm2d-6           [-1, 64, 56, 56]             128\n",
      "              ReLU-7           [-1, 64, 56, 56]               0\n",
      "            Conv2d-8           [-1, 64, 56, 56]          36,864\n",
      "       BatchNorm2d-9           [-1, 64, 56, 56]             128\n",
      "             ReLU-10           [-1, 64, 56, 56]               0\n",
      "           Conv2d-11          [-1, 256, 56, 56]          16,384\n",
      "      BatchNorm2d-12          [-1, 256, 56, 56]             512\n",
      "           Conv2d-13          [-1, 256, 56, 56]          16,384\n",
      "      BatchNorm2d-14          [-1, 256, 56, 56]             512\n",
      "             ReLU-15          [-1, 256, 56, 56]               0\n",
      "       BottleNeck-16          [-1, 256, 56, 56]               0\n",
      "           Conv2d-17           [-1, 64, 56, 56]          16,384\n",
      "      BatchNorm2d-18           [-1, 64, 56, 56]             128\n",
      "             ReLU-19           [-1, 64, 56, 56]               0\n",
      "           Conv2d-20           [-1, 64, 56, 56]          36,864\n",
      "      BatchNorm2d-21           [-1, 64, 56, 56]             128\n",
      "             ReLU-22           [-1, 64, 56, 56]               0\n",
      "           Conv2d-23          [-1, 256, 56, 56]          16,384\n",
      "      BatchNorm2d-24          [-1, 256, 56, 56]             512\n",
      "             ReLU-25          [-1, 256, 56, 56]               0\n",
      "       BottleNeck-26          [-1, 256, 56, 56]               0\n",
      "           Conv2d-27           [-1, 64, 56, 56]          16,384\n",
      "      BatchNorm2d-28           [-1, 64, 56, 56]             128\n",
      "             ReLU-29           [-1, 64, 56, 56]               0\n",
      "           Conv2d-30           [-1, 64, 56, 56]          36,864\n",
      "      BatchNorm2d-31           [-1, 64, 56, 56]             128\n",
      "             ReLU-32           [-1, 64, 56, 56]               0\n",
      "           Conv2d-33          [-1, 256, 56, 56]          16,384\n",
      "      BatchNorm2d-34          [-1, 256, 56, 56]             512\n",
      "             ReLU-35          [-1, 256, 56, 56]               0\n",
      "       BottleNeck-36          [-1, 256, 56, 56]               0\n",
      "           Conv2d-37          [-1, 128, 56, 56]          32,768\n",
      "      BatchNorm2d-38          [-1, 128, 56, 56]             256\n",
      "             ReLU-39          [-1, 128, 56, 56]               0\n",
      "           Conv2d-40          [-1, 128, 28, 28]         147,456\n",
      "      BatchNorm2d-41          [-1, 128, 28, 28]             256\n",
      "             ReLU-42          [-1, 128, 28, 28]               0\n",
      "           Conv2d-43          [-1, 512, 28, 28]          65,536\n",
      "      BatchNorm2d-44          [-1, 512, 28, 28]           1,024\n",
      "           Conv2d-45          [-1, 512, 28, 28]         131,072\n",
      "      BatchNorm2d-46          [-1, 512, 28, 28]           1,024\n",
      "             ReLU-47          [-1, 512, 28, 28]               0\n",
      "       BottleNeck-48          [-1, 512, 28, 28]               0\n",
      "           Conv2d-49          [-1, 128, 28, 28]          65,536\n",
      "      BatchNorm2d-50          [-1, 128, 28, 28]             256\n",
      "             ReLU-51          [-1, 128, 28, 28]               0\n",
      "           Conv2d-52          [-1, 128, 28, 28]         147,456\n",
      "      BatchNorm2d-53          [-1, 128, 28, 28]             256\n",
      "             ReLU-54          [-1, 128, 28, 28]               0\n",
      "           Conv2d-55          [-1, 512, 28, 28]          65,536\n",
      "      BatchNorm2d-56          [-1, 512, 28, 28]           1,024\n",
      "             ReLU-57          [-1, 512, 28, 28]               0\n",
      "       BottleNeck-58          [-1, 512, 28, 28]               0\n",
      "           Conv2d-59          [-1, 128, 28, 28]          65,536\n",
      "      BatchNorm2d-60          [-1, 128, 28, 28]             256\n",
      "             ReLU-61          [-1, 128, 28, 28]               0\n",
      "           Conv2d-62          [-1, 128, 28, 28]         147,456\n",
      "      BatchNorm2d-63          [-1, 128, 28, 28]             256\n",
      "             ReLU-64          [-1, 128, 28, 28]               0\n",
      "           Conv2d-65          [-1, 512, 28, 28]          65,536\n",
      "      BatchNorm2d-66          [-1, 512, 28, 28]           1,024\n",
      "             ReLU-67          [-1, 512, 28, 28]               0\n",
      "       BottleNeck-68          [-1, 512, 28, 28]               0\n",
      "           Conv2d-69          [-1, 128, 28, 28]          65,536\n",
      "      BatchNorm2d-70          [-1, 128, 28, 28]             256\n",
      "             ReLU-71          [-1, 128, 28, 28]               0\n",
      "           Conv2d-72          [-1, 128, 28, 28]         147,456\n",
      "      BatchNorm2d-73          [-1, 128, 28, 28]             256\n",
      "             ReLU-74          [-1, 128, 28, 28]               0\n",
      "           Conv2d-75          [-1, 512, 28, 28]          65,536\n",
      "      BatchNorm2d-76          [-1, 512, 28, 28]           1,024\n",
      "             ReLU-77          [-1, 512, 28, 28]               0\n",
      "       BottleNeck-78          [-1, 512, 28, 28]               0\n",
      "           Conv2d-79          [-1, 256, 28, 28]         131,072\n",
      "      BatchNorm2d-80          [-1, 256, 28, 28]             512\n",
      "             ReLU-81          [-1, 256, 28, 28]               0\n",
      "           Conv2d-82          [-1, 256, 14, 14]         589,824\n",
      "      BatchNorm2d-83          [-1, 256, 14, 14]             512\n",
      "             ReLU-84          [-1, 256, 14, 14]               0\n",
      "           Conv2d-85         [-1, 1024, 14, 14]         262,144\n",
      "      BatchNorm2d-86         [-1, 1024, 14, 14]           2,048\n",
      "           Conv2d-87         [-1, 1024, 14, 14]         524,288\n",
      "      BatchNorm2d-88         [-1, 1024, 14, 14]           2,048\n",
      "             ReLU-89         [-1, 1024, 14, 14]               0\n",
      "       BottleNeck-90         [-1, 1024, 14, 14]               0\n",
      "           Conv2d-91          [-1, 256, 14, 14]         262,144\n",
      "      BatchNorm2d-92          [-1, 256, 14, 14]             512\n",
      "             ReLU-93          [-1, 256, 14, 14]               0\n",
      "           Conv2d-94          [-1, 256, 14, 14]         589,824\n",
      "      BatchNorm2d-95          [-1, 256, 14, 14]             512\n",
      "             ReLU-96          [-1, 256, 14, 14]               0\n",
      "           Conv2d-97         [-1, 1024, 14, 14]         262,144\n",
      "      BatchNorm2d-98         [-1, 1024, 14, 14]           2,048\n",
      "             ReLU-99         [-1, 1024, 14, 14]               0\n",
      "      BottleNeck-100         [-1, 1024, 14, 14]               0\n",
      "          Conv2d-101          [-1, 256, 14, 14]         262,144\n",
      "     BatchNorm2d-102          [-1, 256, 14, 14]             512\n",
      "            ReLU-103          [-1, 256, 14, 14]               0\n",
      "          Conv2d-104          [-1, 256, 14, 14]         589,824\n",
      "     BatchNorm2d-105          [-1, 256, 14, 14]             512\n",
      "            ReLU-106          [-1, 256, 14, 14]               0\n",
      "          Conv2d-107         [-1, 1024, 14, 14]         262,144\n",
      "     BatchNorm2d-108         [-1, 1024, 14, 14]           2,048\n",
      "            ReLU-109         [-1, 1024, 14, 14]               0\n",
      "      BottleNeck-110         [-1, 1024, 14, 14]               0\n",
      "          Conv2d-111          [-1, 256, 14, 14]         262,144\n",
      "     BatchNorm2d-112          [-1, 256, 14, 14]             512\n",
      "            ReLU-113          [-1, 256, 14, 14]               0\n",
      "          Conv2d-114          [-1, 256, 14, 14]         589,824\n",
      "     BatchNorm2d-115          [-1, 256, 14, 14]             512\n",
      "            ReLU-116          [-1, 256, 14, 14]               0\n",
      "          Conv2d-117         [-1, 1024, 14, 14]         262,144\n",
      "     BatchNorm2d-118         [-1, 1024, 14, 14]           2,048\n",
      "            ReLU-119         [-1, 1024, 14, 14]               0\n",
      "      BottleNeck-120         [-1, 1024, 14, 14]               0\n",
      "          Conv2d-121          [-1, 256, 14, 14]         262,144\n",
      "     BatchNorm2d-122          [-1, 256, 14, 14]             512\n",
      "            ReLU-123          [-1, 256, 14, 14]               0\n",
      "          Conv2d-124          [-1, 256, 14, 14]         589,824\n",
      "     BatchNorm2d-125          [-1, 256, 14, 14]             512\n",
      "            ReLU-126          [-1, 256, 14, 14]               0\n",
      "          Conv2d-127         [-1, 1024, 14, 14]         262,144\n",
      "     BatchNorm2d-128         [-1, 1024, 14, 14]           2,048\n",
      "            ReLU-129         [-1, 1024, 14, 14]               0\n",
      "      BottleNeck-130         [-1, 1024, 14, 14]               0\n",
      "          Conv2d-131          [-1, 256, 14, 14]         262,144\n",
      "     BatchNorm2d-132          [-1, 256, 14, 14]             512\n",
      "            ReLU-133          [-1, 256, 14, 14]               0\n",
      "          Conv2d-134          [-1, 256, 14, 14]         589,824\n",
      "     BatchNorm2d-135          [-1, 256, 14, 14]             512\n",
      "            ReLU-136          [-1, 256, 14, 14]               0\n",
      "          Conv2d-137         [-1, 1024, 14, 14]         262,144\n",
      "     BatchNorm2d-138         [-1, 1024, 14, 14]           2,048\n",
      "            ReLU-139         [-1, 1024, 14, 14]               0\n",
      "      BottleNeck-140         [-1, 1024, 14, 14]               0\n",
      "          Conv2d-141          [-1, 512, 14, 14]         524,288\n",
      "     BatchNorm2d-142          [-1, 512, 14, 14]           1,024\n",
      "            ReLU-143          [-1, 512, 14, 14]               0\n",
      "          Conv2d-144            [-1, 512, 7, 7]       2,359,296\n",
      "     BatchNorm2d-145            [-1, 512, 7, 7]           1,024\n",
      "            ReLU-146            [-1, 512, 7, 7]               0\n",
      "          Conv2d-147           [-1, 2048, 7, 7]       1,048,576\n",
      "     BatchNorm2d-148           [-1, 2048, 7, 7]           4,096\n",
      "          Conv2d-149           [-1, 2048, 7, 7]       2,097,152\n",
      "     BatchNorm2d-150           [-1, 2048, 7, 7]           4,096\n",
      "            ReLU-151           [-1, 2048, 7, 7]               0\n",
      "      BottleNeck-152           [-1, 2048, 7, 7]               0\n",
      "          Conv2d-153            [-1, 512, 7, 7]       1,048,576\n",
      "     BatchNorm2d-154            [-1, 512, 7, 7]           1,024\n",
      "            ReLU-155            [-1, 512, 7, 7]               0\n",
      "          Conv2d-156            [-1, 512, 7, 7]       2,359,296\n",
      "     BatchNorm2d-157            [-1, 512, 7, 7]           1,024\n",
      "            ReLU-158            [-1, 512, 7, 7]               0\n",
      "          Conv2d-159           [-1, 2048, 7, 7]       1,048,576\n",
      "     BatchNorm2d-160           [-1, 2048, 7, 7]           4,096\n",
      "            ReLU-161           [-1, 2048, 7, 7]               0\n",
      "      BottleNeck-162           [-1, 2048, 7, 7]               0\n",
      "          Conv2d-163            [-1, 512, 7, 7]       1,048,576\n",
      "     BatchNorm2d-164            [-1, 512, 7, 7]           1,024\n",
      "            ReLU-165            [-1, 512, 7, 7]               0\n",
      "          Conv2d-166            [-1, 512, 7, 7]       2,359,296\n",
      "     BatchNorm2d-167            [-1, 512, 7, 7]           1,024\n",
      "            ReLU-168            [-1, 512, 7, 7]               0\n",
      "          Conv2d-169           [-1, 2048, 7, 7]       1,048,576\n",
      "     BatchNorm2d-170           [-1, 2048, 7, 7]           4,096\n",
      "            ReLU-171           [-1, 2048, 7, 7]               0\n",
      "      BottleNeck-172           [-1, 2048, 7, 7]               0\n",
      "AdaptiveAvgPool2d-173           [-1, 2048, 1, 1]               0\n",
      "          Linear-174                   [-1, 50]         102,450\n",
      "================================================================\n",
      "Total params: 23,610,482\n",
      "Trainable params: 23,610,482\n",
      "Non-trainable params: 0\n",
      "----------------------------------------------------------------\n",
      "Input size (MB): 0.57\n",
      "Forward/backward pass size (MB): 286.55\n",
      "Params size (MB): 90.07\n",
      "Estimated Total Size (MB): 377.19\n",
      "----------------------------------------------------------------\n"
     ]
    }
   ],
   "source": [
    "from torchsummary import summary\n",
    "summary(model, (3, 224, 224), device=device.type)"
   ]
  },
  {
   "cell_type": "code",
   "execution_count": 58,
   "id": "4617352f",
   "metadata": {},
   "outputs": [
    {
     "name": "stdout",
     "output_type": "stream",
     "text": [
      "Requirement already satisfied: tqdm in c:\\users\\kimju\\anaconda3\\envs\\dacon\\lib\\site-packages (4.64.0)\n",
      "Requirement already satisfied: colorama in c:\\users\\kimju\\appdata\\roaming\\python\\python38\\site-packages (from tqdm) (0.4.5)\n"
     ]
    }
   ],
   "source": [
    "!pip install tqdm"
   ]
  },
  {
   "cell_type": "code",
   "execution_count": 77,
   "id": "c00cf976",
   "metadata": {},
   "outputs": [
    {
     "name": "stdout",
     "output_type": "stream",
     "text": [
      "start train\n",
      "epoch is : 0\n"
     ]
    },
    {
     "name": "stderr",
     "output_type": "stream",
     "text": [
      "  0%|                                                                                          | 0/370 [00:00<?, ?it/s]C:\\Users\\kimju\\AppData\\Local\\Temp\\ipykernel_17836\\2386556728.py:17: UserWarning: To copy construct from a tensor, it is recommended to use sourceTensor.clone().detach() or sourceTensor.clone().detach().requires_grad_(True), rather than torch.tensor(sourceTensor).\n",
      "  labels = torch.tensor(labels).to(device)\n",
      "100%|████████████████████████████████████████████████████████████████████████████████| 370/370 [03:00<00:00,  2.05it/s]\n"
     ]
    },
    {
     "name": "stdout",
     "output_type": "stream",
     "text": [
      "epoch is : 1\n"
     ]
    },
    {
     "name": "stderr",
     "output_type": "stream",
     "text": [
      "100%|████████████████████████████████████████████████████████████████████████████████| 370/370 [01:49<00:00,  3.39it/s]\n"
     ]
    },
    {
     "name": "stdout",
     "output_type": "stream",
     "text": [
      "epoch is : 2\n"
     ]
    },
    {
     "name": "stderr",
     "output_type": "stream",
     "text": [
      "100%|████████████████████████████████████████████████████████████████████████████████| 370/370 [01:50<00:00,  3.36it/s]\n"
     ]
    },
    {
     "name": "stdout",
     "output_type": "stream",
     "text": [
      "epoch is : 3\n"
     ]
    },
    {
     "name": "stderr",
     "output_type": "stream",
     "text": [
      "100%|████████████████████████████████████████████████████████████████████████████████| 370/370 [01:51<00:00,  3.32it/s]\n"
     ]
    },
    {
     "name": "stdout",
     "output_type": "stream",
     "text": [
      "epoch is : 4\n"
     ]
    },
    {
     "name": "stderr",
     "output_type": "stream",
     "text": [
      "100%|████████████████████████████████████████████████████████████████████████████████| 370/370 [01:52<00:00,  3.29it/s]\n"
     ]
    },
    {
     "name": "stdout",
     "output_type": "stream",
     "text": [
      "epoch is : 5\n"
     ]
    },
    {
     "name": "stderr",
     "output_type": "stream",
     "text": [
      "100%|████████████████████████████████████████████████████████████████████████████████| 370/370 [01:52<00:00,  3.28it/s]\n"
     ]
    },
    {
     "name": "stdout",
     "output_type": "stream",
     "text": [
      "epoch is : 6\n"
     ]
    },
    {
     "name": "stderr",
     "output_type": "stream",
     "text": [
      "100%|████████████████████████████████████████████████████████████████████████████████| 370/370 [01:52<00:00,  3.28it/s]\n"
     ]
    },
    {
     "name": "stdout",
     "output_type": "stream",
     "text": [
      "epoch is : 7\n"
     ]
    },
    {
     "name": "stderr",
     "output_type": "stream",
     "text": [
      "100%|████████████████████████████████████████████████████████████████████████████████| 370/370 [01:52<00:00,  3.27it/s]\n"
     ]
    },
    {
     "name": "stdout",
     "output_type": "stream",
     "text": [
      "epoch is : 8\n"
     ]
    },
    {
     "name": "stderr",
     "output_type": "stream",
     "text": [
      "100%|████████████████████████████████████████████████████████████████████████████████| 370/370 [01:53<00:00,  3.26it/s]\n"
     ]
    },
    {
     "name": "stdout",
     "output_type": "stream",
     "text": [
      "epoch is : 9\n"
     ]
    },
    {
     "name": "stderr",
     "output_type": "stream",
     "text": [
      "100%|████████████████████████████████████████████████████████████████████████████████| 370/370 [01:53<00:00,  3.26it/s]\n"
     ]
    }
   ],
   "source": [
    "import torch.optim as optim\n",
    "from tqdm import tqdm\n",
    "print(\"start train\")\n",
    "#criterion = nn.MultiLabelSoftMarginLoss()\n",
    "criterion = nn.CrossEntropyLoss()\n",
    "optimizer = optim.SGD(model.parameters(), lr=0.001, momentum=0.9)\n",
    "\n",
    "num_epochs = 10\n",
    "model.train()\n",
    "# train_dataloader에 문제 발생한듯\n",
    "for epoch in range(num_epochs):\n",
    "    print(\"epoch is :\",epoch)\n",
    "    for i, (images,labels) in enumerate(tqdm(train_dataloader)):\n",
    "        optimizer.zero_grad()\n",
    "\n",
    "        images = images.to(device)\n",
    "        labels = torch.tensor(labels).to(device)\n",
    "        outputs = model(images)\n",
    "        loss = criterion(outputs,labels)\n",
    "        \n",
    "        loss.backward()\n",
    "        optimizer.step() "
   ]
  },
  {
   "cell_type": "code",
   "execution_count": 104,
   "id": "1d29d334",
   "metadata": {
    "scrolled": true
   },
   "outputs": [
    {
     "name": "stdout",
     "output_type": "stream",
     "text": [
      "tensor([[1.9121e-01, 1.1226e-01, 1.5298e-01, 1.3262e-01, 8.3595e-02, 1.4613e-01,\n",
      "         1.7315e-01, 1.3923e-01, 1.5433e-01, 1.3227e-01, 8.0192e-02, 1.3948e-01,\n",
      "         1.5907e-01, 1.5155e-01, 1.8513e-02, 2.0386e-01, 1.1178e-01, 1.4939e-01,\n",
      "         7.3985e-02, 1.2125e-02, 4.3116e-02, 1.4439e-01, 2.7588e-02, 1.4246e-01,\n",
      "         1.4523e-01, 1.5557e-01, 7.6032e-02, 5.1397e-02, 1.4698e-01, 3.7534e-02,\n",
      "         1.3945e-01, 3.2391e-02, 1.6148e-01, 5.6489e-02, 1.6680e-01, 2.6285e-02,\n",
      "         1.2918e-01, 1.8341e-01, 1.6123e-01, 7.9654e-02, 1.1344e-01, 1.5334e-01,\n",
      "         1.0177e-01, 1.2579e-01, 2.3241e-02, 1.6382e-01, 4.8491e-02, 1.5511e-02,\n",
      "         1.4891e-01, 1.0182e-01],\n",
      "        [1.0969e-01, 2.3600e-01, 9.0985e-02, 3.8032e-02, 1.5153e-01, 5.6017e-02,\n",
      "         1.5249e-01, 1.4058e-01, 1.2285e-01, 1.3196e-01, 1.3631e-02, 1.3826e-01,\n",
      "         1.1317e-02, 1.3214e-01, 5.6361e-02, 3.8889e-02, 2.4891e-02, 1.1136e-01,\n",
      "         1.4321e-01, 3.7121e-02, 8.8894e-02, 5.4387e-02, 4.8129e-02, 1.5818e-01,\n",
      "         1.6065e-01, 1.1942e-01, 2.4209e-02, 5.9521e-03, 1.4152e-01, 9.5222e-02,\n",
      "         1.4787e-01, 8.5110e-02, 8.9793e-02, 1.3895e-01, 9.7648e-02, 5.9394e-02,\n",
      "         1.3940e-01, 1.1633e-01, 1.2048e-01, 1.3748e-01, 1.3323e-01, 5.3015e-02,\n",
      "         1.5949e-01, 1.5036e-01, 5.8393e-02, 8.8469e-02, 9.5426e-02, 4.3167e-02,\n",
      "         1.3032e-01, 1.1503e-01],\n",
      "        [8.1957e-02, 1.0325e-01, 4.6378e-02, 6.1751e-03, 1.7035e-01, 1.6061e-02,\n",
      "         8.4252e-02, 1.3888e-01, 1.0144e-01, 1.4956e-01, 2.0686e-03, 1.1731e-01,\n",
      "         2.4554e-03, 1.3213e-01, 2.1745e-01, 1.1937e-02, 5.4469e-03, 5.1982e-02,\n",
      "         2.7599e-01, 2.5165e-01, 2.2185e-01, 1.7339e-02, 1.7225e-01, 1.1957e-01,\n",
      "         9.6448e-02, 8.7566e-02, 5.0404e-03, 6.6754e-04, 1.3254e-01, 2.7622e-01,\n",
      "         1.3928e-01, 2.4510e-01, 4.2748e-02, 2.9608e-01, 4.7712e-02, 2.9190e-01,\n",
      "         1.3162e-01, 6.5199e-02, 5.4242e-02, 2.4665e-01, 2.1031e-01, 1.5130e-02,\n",
      "         1.6131e-01, 1.6880e-01, 2.3812e-01, 3.9176e-02, 2.3017e-01, 2.4038e-01,\n",
      "         1.1400e-01, 2.0209e-01],\n",
      "        [1.4559e-01, 4.4493e-02, 1.9689e-02, 2.8320e-03, 3.5448e-01, 5.2304e-03,\n",
      "         8.0159e-02, 1.3997e-01, 1.0884e-01, 1.7724e-01, 1.3817e-04, 1.4483e-01,\n",
      "         1.2100e-02, 1.4992e-01, 6.7211e-01, 3.0270e-02, 1.6029e-03, 2.0671e-02,\n",
      "         3.2068e-01, 6.7063e-01, 5.4611e-01, 5.0116e-03, 6.9106e-01, 1.0132e-01,\n",
      "         4.5220e-02, 4.7492e-02, 1.8687e-04, 8.3071e-05, 1.1757e-01, 5.0021e-01,\n",
      "         1.7240e-01, 5.4574e-01, 1.5276e-02, 3.4735e-01, 3.2823e-02, 5.6063e-01,\n",
      "         2.0470e-01, 7.6707e-02, 2.8507e-02, 3.2382e-01, 2.3490e-01, 5.7665e-03,\n",
      "         2.5169e-01, 2.0191e-01, 6.2997e-01, 2.2425e-02, 5.1475e-01, 6.6425e-01,\n",
      "         9.3241e-02, 3.3188e-01],\n",
      "        [1.8757e-01, 7.6911e-02, 3.3025e-01, 5.2020e-01, 4.2393e-02, 4.3527e-01,\n",
      "         1.7008e-01, 1.3303e-01, 1.5581e-01, 1.2532e-01, 7.2490e-01, 1.5876e-01,\n",
      "         5.4663e-01, 1.4235e-01, 5.6675e-03, 4.0316e-01, 6.2317e-01, 2.7061e-01,\n",
      "         3.7656e-02, 3.9793e-03, 1.8510e-02, 4.7125e-01, 1.2030e-02, 1.6449e-01,\n",
      "         2.1217e-01, 2.3830e-01, 6.8093e-01, 8.2848e-01, 1.3413e-01, 1.6186e-02,\n",
      "         1.1262e-01, 1.5528e-02, 3.4484e-01, 2.6307e-02, 3.3091e-01, 1.0547e-02,\n",
      "         1.1115e-01, 2.4705e-01, 2.8268e-01, 4.9981e-02, 8.3085e-02, 4.6883e-01,\n",
      "         8.6972e-02, 1.0229e-01, 7.1911e-03, 3.6533e-01, 2.3176e-02, 5.2308e-03,\n",
      "         1.8276e-01, 6.9416e-02],\n",
      "        [1.6090e-01, 1.1984e-01, 1.8345e-01, 1.6434e-01, 7.2909e-02, 1.9502e-01,\n",
      "         1.7317e-01, 1.5829e-01, 1.7115e-01, 1.3604e-01, 1.3651e-01, 1.5706e-01,\n",
      "         2.2585e-01, 1.5910e-01, 1.1083e-02, 2.0377e-01, 1.6334e-01, 2.1205e-01,\n",
      "         6.7182e-02, 9.1071e-03, 3.7344e-02, 1.9552e-01, 2.4759e-02, 1.5818e-01,\n",
      "         1.4799e-01, 1.7804e-01, 1.7131e-01, 8.3256e-02, 1.5791e-01, 3.1637e-02,\n",
      "         1.3460e-01, 3.2072e-02, 2.0107e-01, 5.5648e-02, 1.8221e-01, 2.1091e-02,\n",
      "         1.3173e-01, 1.8270e-01, 1.8881e-01, 7.0033e-02, 1.0273e-01, 1.8451e-01,\n",
      "         1.0952e-01, 1.2816e-01, 1.6603e-02, 1.6485e-01, 3.8927e-02, 1.1956e-02,\n",
      "         1.6329e-01, 8.1347e-02],\n",
      "        [1.2308e-01, 3.0725e-01, 1.7627e-01, 1.3580e-01, 1.2475e-01, 1.4627e-01,\n",
      "         1.6669e-01, 1.5002e-01, 1.8559e-01, 1.4762e-01, 4.2556e-02, 1.4429e-01,\n",
      "         4.2578e-02, 1.3280e-01, 1.8818e-02, 1.0811e-01, 6.9773e-02, 1.8394e-01,\n",
      "         8.1297e-02, 1.5386e-02, 4.4176e-02, 1.1211e-01, 2.4184e-02, 1.5581e-01,\n",
      "         1.9228e-01, 1.7360e-01, 4.2294e-02, 3.0168e-02, 1.6937e-01, 4.2993e-02,\n",
      "         1.5377e-01, 4.4064e-02, 1.4480e-01, 7.9179e-02, 1.4190e-01, 3.0148e-02,\n",
      "         1.5221e-01, 1.2860e-01, 1.6405e-01, 9.2381e-02, 1.2231e-01, 1.1941e-01,\n",
      "         1.2925e-01, 1.2268e-01, 2.6484e-02, 1.5592e-01, 4.9063e-02, 1.9504e-02,\n",
      "         1.6747e-01, 9.8419e-02]], device='cuda:0', grad_fn=<SoftmaxBackward0>)\n"
     ]
    }
   ],
   "source": [
    "print(outputs)"
   ]
  },
  {
   "cell_type": "code",
   "execution_count": 78,
   "id": "3b896b1f",
   "metadata": {},
   "outputs": [],
   "source": [
    "torch.save(model,\"model.pt\")"
   ]
  },
  {
   "cell_type": "code",
   "execution_count": 87,
   "id": "dbbc8d6d",
   "metadata": {
    "scrolled": true
   },
   "outputs": [
    {
     "ename": "TypeError",
     "evalue": "__init__() takes 1 positional argument but 2 were given",
     "output_type": "error",
     "traceback": [
      "\u001b[1;31m---------------------------------------------------------------------------\u001b[0m",
      "\u001b[1;31mTypeError\u001b[0m                                 Traceback (most recent call last)",
      "Input \u001b[1;32mIn [87]\u001b[0m, in \u001b[0;36m<cell line: 2>\u001b[1;34m()\u001b[0m\n\u001b[0;32m      1\u001b[0m test_image \u001b[38;5;241m=\u001b[39m cv2\u001b[38;5;241m.\u001b[39mimread(\u001b[38;5;124mf\u001b[39m\u001b[38;5;124m'\u001b[39m\u001b[38;5;132;01m{\u001b[39;00mdata_dir\u001b[38;5;132;01m}\u001b[39;00m\u001b[38;5;124m/test/TEST_00000.jpg\u001b[39m\u001b[38;5;124m'\u001b[39m)\n\u001b[1;32m----> 2\u001b[0m test_image \u001b[38;5;241m=\u001b[39m \u001b[43mtransforms\u001b[49m\u001b[38;5;241;43m.\u001b[39;49m\u001b[43mToTensor\u001b[49m\u001b[43m(\u001b[49m\u001b[43mtest_image\u001b[49m\u001b[43m,\u001b[49m\u001b[43m)\u001b[49m\n\u001b[0;32m      3\u001b[0m \u001b[38;5;28mprint\u001b[39m(\u001b[38;5;28mtype\u001b[39m(test_image))\n\u001b[0;32m      4\u001b[0m out \u001b[38;5;241m=\u001b[39m model(test_image)\n",
      "\u001b[1;31mTypeError\u001b[0m: __init__() takes 1 positional argument but 2 were given"
     ]
    }
   ],
   "source": [
    "test_image = cv2.imread(f'{data_dir}/test/TEST_00000.jpg')\n",
    "test_image = transforms.ToTensor(test_image,)\n",
    "print(type(test_image))\n",
    "out = model(test_image)"
   ]
  },
  {
   "cell_type": "code",
   "execution_count": 65,
   "id": "0a4ff66d",
   "metadata": {},
   "outputs": [
    {
     "name": "stderr",
     "output_type": "stream",
     "text": [
      "100%|████████████████████████████████████████████████████████████████████████████████| 792/792 [01:17<00:00, 10.26it/s]\n"
     ]
    }
   ],
   "source": [
    "import torch\n",
    "from tqdm import tqdm\n",
    "from torchvision import transforms\n",
    "test_data = CustomDataset('test',data_dir,test_label,test_transform)\n",
    "test_dataloader = DataLoader(test_data, batch_size=16, shuffle=True)\n",
    "test_transform = transforms.Compose([\n",
    "    transforms.ToPILImage(),\n",
    "    transforms.Resize((300, 300)), \n",
    "    transforms.ToTensor(),\n",
    "])\n",
    "model = torch.load('model.pt')\n",
    "model.eval()\n",
    "with torch.no_grad():\n",
    "    for i,image in enumerate(tqdm(test_dataloader)):\n",
    "        image = image.to(device)\n",
    "        out = model(image)"
   ]
  },
  {
   "cell_type": "code",
   "execution_count": 66,
   "id": "6ddd8801",
   "metadata": {},
   "outputs": [
    {
     "name": "stdout",
     "output_type": "stream",
     "text": [
      "tensor([ 1, 27,  1, 19, 26, 12, 12, 26,  3, 36,  1, 10, 33,  3],\n",
      "       device='cuda:0')\n"
     ]
    }
   ],
   "source": [
    "print(out.argmax(axis=1))"
   ]
  },
  {
   "cell_type": "code",
   "execution_count": 67,
   "id": "02e24377",
   "metadata": {},
   "outputs": [
    {
     "name": "stdout",
     "output_type": "stream",
     "text": [
      "torch.Size([3, 300, 300])\n"
     ]
    }
   ],
   "source": [
    "print(image[0].shape)"
   ]
  },
  {
   "cell_type": "code",
   "execution_count": 68,
   "id": "05682ac3",
   "metadata": {},
   "outputs": [],
   "source": [
    "from PIL import Image\n",
    "from torchvision import transforms as T\n",
    "transformer = T.ToPILImage()\n",
    "img = transformer(image[0])\n"
   ]
  },
  {
   "cell_type": "code",
   "execution_count": 70,
   "id": "346dcbc2",
   "metadata": {},
   "outputs": [],
   "source": [
    "img.show()"
   ]
  },
  {
   "cell_type": "code",
   "execution_count": 63,
   "id": "64200a14",
   "metadata": {},
   "outputs": [
    {
     "ename": "error",
     "evalue": "OpenCV(4.6.0) :-1: error: (-5:Bad argument) in function 'cvtColor'\n> Overload resolution failed:\n>  - src is not a numpy array, neither a scalar\n>  - Expected Ptr<cv::UMat> for argument 'src'\n",
     "output_type": "error",
     "traceback": [
      "\u001b[1;31m---------------------------------------------------------------------------\u001b[0m",
      "\u001b[1;31merror\u001b[0m                                     Traceback (most recent call last)",
      "Input \u001b[1;32mIn [63]\u001b[0m, in \u001b[0;36m<cell line: 1>\u001b[1;34m()\u001b[0m\n\u001b[1;32m----> 1\u001b[0m a \u001b[38;5;241m=\u001b[39m \u001b[43mcv2\u001b[49m\u001b[38;5;241;43m.\u001b[39;49m\u001b[43mcvtColor\u001b[49m\u001b[43m(\u001b[49m\u001b[43mimage\u001b[49m\u001b[43m[\u001b[49m\u001b[38;5;241;43m0\u001b[39;49m\u001b[43m]\u001b[49m\u001b[43m,\u001b[49m\u001b[43mcv2\u001b[49m\u001b[38;5;241;43m.\u001b[39;49m\u001b[43mCOLOR_BGR2RGB\u001b[49m\u001b[43m)\u001b[49m\n",
      "\u001b[1;31merror\u001b[0m: OpenCV(4.6.0) :-1: error: (-5:Bad argument) in function 'cvtColor'\n> Overload resolution failed:\n>  - src is not a numpy array, neither a scalar\n>  - Expected Ptr<cv::UMat> for argument 'src'\n"
     ]
    }
   ],
   "source": []
  },
  {
   "cell_type": "code",
   "execution_count": null,
   "id": "1d36a7a5",
   "metadata": {},
   "outputs": [],
   "source": []
  }
 ],
 "metadata": {
  "kernelspec": {
   "display_name": "Python 3 (ipykernel)",
   "language": "python",
   "name": "python3"
  },
  "language_info": {
   "codemirror_mode": {
    "name": "ipython",
    "version": 3
   },
   "file_extension": ".py",
   "mimetype": "text/x-python",
   "name": "python",
   "nbconvert_exporter": "python",
   "pygments_lexer": "ipython3",
   "version": "3.8.13"
  }
 },
 "nbformat": 4,
 "nbformat_minor": 5
}
